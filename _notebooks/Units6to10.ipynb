{
 "cells": [
  {
   "cell_type": "markdown",
   "metadata": {},
   "source": [
    "# Unit 6-10 HW and Vocab\n",
    "> Jupyter Notebook containing my learnings for Units 6 through 10\n"
   ]
  },
  {
   "cell_type": "markdown",
   "metadata": {},
   "source": [
    "| Unit | Score  |\n",
    "| ---- | -----  |\n",
    "|   6  | 0.9/1  |\n",
    "|   7  | 0.95/1 |\n",
    "|   8  | 0.9 /1 |\n",
    "|   9  | 1/1 |\n",
    "|   10  | 1/1 |\n",
    "| Total Score | 4.75/5 |"
   ]
  },
  {
   "cell_type": "markdown",
   "metadata": {},
   "source": [
    "# Unit 6: Arrays\n",
    "\n",
    "[Unit 6 Blog](https://bgt072105.github.io/super-barnacle/java/labs/2022/12/14/arrayLesson.html)"
   ]
  },
  {
   "cell_type": "markdown",
   "metadata": {},
   "source": [
    "# Unit 7: Array List\n",
    "\n",
    "[Unit 7 Blog](https://bgt072105.github.io/super-barnacle/java/labs/2022/12/14/arrayListLesson.html)"
   ]
  },
  {
   "cell_type": "markdown",
   "metadata": {},
   "source": [
    "# Unit 8: 2D Arrays\n",
    "\n",
    "[Unit 8 Blog](https://bgt072105.github.io/super-barnacle/java/labs/2022/12/14/dArraysLesson.html)"
   ]
  },
  {
   "cell_type": "markdown",
   "metadata": {},
   "source": [
    "# Unit 9: Inheritance\n",
    "\n",
    "[Unit 9 Blog](https://bgt072105.github.io/super-barnacle/java/labs/2022/12/14/inheritanceLesson.html)"
   ]
  },
  {
   "cell_type": "markdown",
   "metadata": {},
   "source": [
    "# Unit 10: Recursion\n",
    "\n",
    "[Unit 10 Blog](https://bgt072105.github.io/super-barnacle/java/labs/2022/12/14/recursionGrading.html)"
   ]
  },
  {
   "cell_type": "markdown",
   "metadata": {},
   "source": [
    "# Revised Vocab with Examples:\n",
    "\n",
    "### Casting for Division\n",
    "When you divide a double by a double the output is not always a double and when you divide an integer by an integer the output is not always an integer. Casting can be used in the dominator to fix this."
   ]
  },
  {
   "cell_type": "code",
   "execution_count": 1,
   "metadata": {},
   "outputs": [
    {
     "name": "stdout",
     "output_type": "stream",
     "text": [
      "1\n",
      "1.5\n"
     ]
    }
   ],
   "source": [
    "int x = 3/2;\n",
    "System.out.println(x);\n",
    "\n",
    "// vs casting with double\n",
    "double y = 3/(double)2;\n",
    "System.out.println(y);"
   ]
  },
  {
   "cell_type": "markdown",
   "metadata": {},
   "source": [
    "### Casting for Truncating or Rounding\n",
    "Double values can be rounded to the nearest integer by casting (int)"
   ]
  },
  {
   "cell_type": "code",
   "execution_count": 2,
   "metadata": {},
   "outputs": [
    {
     "name": "stdout",
     "output_type": "stream",
     "text": [
      "4.0/3 = 1.3333333333333333\n",
      "4/3 truncated: 1\n",
      "4.0/3 rounded to nearest int: 1\n"
     ]
    }
   ],
   "source": [
    "double x = 4.0 / 3;\n",
    "int rounded = (int)(x + 0.5);\n",
    "System.out.println(\"4.0/3 = \" + x);\n",
    "System.out.println(\"4/3 truncated: \" + (int)x );\n",
    "System.out.println(\"4.0/3 rounded to nearest int: \" + rounded);"
   ]
  },
  {
   "cell_type": "markdown",
   "metadata": {},
   "source": [
    "### Wrapper Classes, why wrap int, double. Show examples\n",
    "A wrapper is a class whose object contains primitive data types. Wrapper classes allow us to wrap a primitive object into the class object."
   ]
  },
  {
   "cell_type": "code",
   "execution_count": 3,
   "metadata": {},
   "outputs": [
    {
     "name": "stdout",
     "output_type": "stream",
     "text": [
      "1\n",
      "1.5\n"
     ]
    }
   ],
   "source": [
    "Integer a = 1;\n",
    "Double b = 1.5;\n",
    "\n",
    "System.out.println(a);\n",
    "System.out.println(b)"
   ]
  },
  {
   "cell_type": "markdown",
   "metadata": {},
   "source": [
    "### Concatenation, explain or illustrate rules on mixed type Concatenation\n",
    "Concatenation is defined as the joining of data and some examples include string concatenation as well as string and object concatenation with toString() method.\n",
    "\n",
    "### Math class, specifically Random usage\n",
    "The math class contains static methods from the java.lang package\n",
    "* Ex: math.random"
   ]
  },
  {
   "cell_type": "code",
   "execution_count": 4,
   "metadata": {},
   "outputs": [
    {
     "name": "stdout",
     "output_type": "stream",
     "text": [
      "2\n",
      "4.7045881E7\n",
      "22.360679774997898\n"
     ]
    }
   ],
   "source": [
    "System.out.println(Math.abs(-2));\n",
    "System.out.println(Math.pow(19, 6));\n",
    "System.out.println(Math.sqrt(500));"
   ]
  },
  {
   "cell_type": "markdown",
   "metadata": {},
   "source": [
    "### Compound Boolean Expression\n",
    "A boolean expression is a logical statement that can either be evaluated to true or false. A compound boolean expression involves two boolean expression, with the second boolean expression only being evaluated if the first boolean expression evaluates to true.\n",
    "\n",
    "### Truth Tables\n",
    "A truth table is a breakdown of a logic function by listing all possible values the function can attain. Such a table typically contains several rows and columns, with the top row representing the logical variables and combinations, in increasing complexity leading up to the final function.\n",
    "\n",
    "### De Morgan's Law\n",
    "DeMorgan's laws tell us how to transform logical expressions (with multiple AND and/or OR statements) using the NOT operator.\n",
    "\n",
    "### Comparing Numbers\n",
    "The compare() method of Integer class of java.lang package compares two integer values (x, y) given as a parameter and returns the value zero if (x==y), returns a value less than zero if (x < y) and returns a value greater than zero if (x > y).\n",
    "\n",
    "### Comparing Strings\n",
    "Ff (string1 > string2) it returns a positive value, if (string1 == string2) it returns 0, and if (string1 < string2) it returns a negative value\n",
    "\n",
    "### Comparing Objects\n",
    "== and != operators"
   ]
  },
  {
   "cell_type": "markdown",
   "metadata": {},
   "source": [
    "### Compare methods\n",
    "* Comparing numbers: compare() method of Integer class of java.lang package compares two integer values (x, y) given as a parameter and returns the value zero if (x==y), if (x < y) then it returns a value less than zero and if (x > y) then it returns a value greater than zero.\n",
    "* Comparing strings: if (string1 > string2) it returns a positive value. If (string1 == string2) it returns 0. If (string1 < string2) it returns a negative value\n",
    "* Comparing objects: == and != operators"
   ]
  },
  {
   "cell_type": "code",
   "execution_count": 5,
   "metadata": {},
   "outputs": [
    {
     "name": "stdout",
     "output_type": "stream",
     "text": [
      "-1\n"
     ]
    }
   ],
   "source": [
    "int a = 10;\n",
    "int b = 20;\n",
    "  \n",
    "// as 10 less than 20, Output will be a value less than zero\n",
    "System.out.println(Integer.compare(a, b));"
   ]
  },
  {
   "cell_type": "markdown",
   "metadata": {},
   "source": [
    "### For loop, enhanced for loop\n",
    "A for loop will keep running for each time a given condition is true. The enhanced for loop is also known as the for each loop and is used to iterate through elements of arrays and collections."
   ]
  },
  {
   "cell_type": "code",
   "execution_count": null,
   "metadata": {},
   "outputs": [],
   "source": [
    "public class LoopConversion \n",
    "{\n",
    "    public static void main(String[] args) \n",
    "    {\n",
    "        int count = 0;\n",
    "        //convert to for loop\n",
    "        for (count=0; count < 5;)\n",
    "        {\n",
    "            System.out.println(\"count is \" + count);\n",
    "            count++;\n",
    "        }\n",
    "    }\n",
    "}\n",
    "\n",
    "LoopConversion.main(null);"
   ]
  },
  {
   "cell_type": "markdown",
   "metadata": {},
   "source": [
    "### While loop versus do while loop\n",
    "While a specific condition is true, the loop will run. A while loop will check the condition first before running whereas a do while loop will run and then check the condition afterwards."
   ]
  },
  {
   "cell_type": "code",
   "execution_count": null,
   "metadata": {},
   "outputs": [],
   "source": [
    "public class WhileLoop \n",
    "{\n",
    "    public static void main(String[] args) \n",
    "    {\n",
    "        int i = 0;\n",
    "        //convert to for loop\n",
    "        while (i < 5)\n",
    "        {\n",
    "            System.out.println(\"i is \" + i);\n",
    "            i++;\n",
    "        }\n",
    "    }\n",
    "}\n",
    "\n",
    "WhileLoop.main(null);"
   ]
  },
  {
   "cell_type": "markdown",
   "metadata": {},
   "source": [
    "### Nested loops\n",
    "Nested loops are loops within loops."
   ]
  },
  {
   "cell_type": "code",
   "execution_count": 6,
   "metadata": {},
   "outputs": [
    {
     "name": "stdout",
     "output_type": "stream",
     "text": [
      "Week: 1\n",
      "  Day: 1\n",
      "  Day: 2\n",
      "  Day: 3\n",
      "  Day: 4\n",
      "  Day: 5\n",
      "  Day: 6\n",
      "  Day: 7\n",
      "Week: 2\n",
      "  Day: 1\n",
      "  Day: 2\n",
      "  Day: 3\n",
      "  Day: 4\n",
      "  Day: 5\n",
      "  Day: 6\n",
      "  Day: 7\n",
      "Week: 3\n",
      "  Day: 1\n",
      "  Day: 2\n",
      "  Day: 3\n",
      "  Day: 4\n",
      "  Day: 5\n",
      "  Day: 6\n",
      "  Day: 7\n"
     ]
    }
   ],
   "source": [
    "class Main {\n",
    "    public static void main(String[] args) {\n",
    "  \n",
    "      int weeks = 3;\n",
    "      int days = 7;\n",
    "  \n",
    "      // outer loop prints weeks\n",
    "      for (int i = 1; i <= weeks; ++i) {\n",
    "        System.out.println(\"Week: \" + i);\n",
    "  \n",
    "        // inner loop prints days\n",
    "        for (int j = 1; j <= days; ++j) {\n",
    "          System.out.println(\"  Day: \" + j);\n",
    "        }\n",
    "      }\n",
    "    }\n",
    "  }\n",
    "  Main.main(null);"
   ]
  },
  {
   "cell_type": "markdown",
   "metadata": {},
   "source": [
    "### Classes\n",
    "* blueprints for instantiating objects\n",
    "* model real world objects in code\n",
    "\n",
    "### Anatomy of a Class\n",
    "* Object\n",
    "    * instance of a class\n",
    "* Class\n",
    "    * defines an abstract type\n",
    "* Methods\n",
    "    * behaviors you can get the object to do\n",
    "* Constructors\n",
    "    * creates the object\n",
    "    * special method for object instantiation\n",
    "    * default constructor has no arguments\n",
    "* Main method\n",
    "    * test the class\n",
    "\n",
    "### Accessor Methods\n",
    "* Get of methods or getters\n",
    "    * allows you to get values of variables\n",
    "    * return a copy\n",
    "* Non-void Methods\n",
    "    * value of specific data type returned\n",
    "    * no parameters\n",
    "\n",
    "### Mutator Methods\n",
    "* Set of methods or setters\n",
    "    * allows you to change the value of the variable\n",
    "* Void Methods\n",
    "    * no value returned\n",
    "*   will take parameters\n",
    "\n",
    "### Public, Private, Protected\n",
    "* Public - can be accessed within and outside of class\n",
    "* Private - can only be accessed within the class\n",
    "* Protected - can be accessed by all classes in the package and all subclass outside of the package"
   ]
  },
  {
   "cell_type": "code",
   "execution_count": 7,
   "metadata": {},
   "outputs": [
    {
     "name": "stdout",
     "output_type": "stream",
     "text": [
      "is the light on? true\n",
      "is the light on? false\n"
     ]
    }
   ],
   "source": [
    "class Lamp {\n",
    " \n",
    "    boolean isOn;\n",
    "  \n",
    "    void turnOn() {\n",
    "      isOn = true;\n",
    "      System.out.println(\"is the light on? \" + isOn);\n",
    "  \n",
    "    }\n",
    "  \n",
    "    void turnOff() {\n",
    "      isOn = false;\n",
    "      System.out.println(\"is the light on? \" + isOn);\n",
    "    }\n",
    "  }\n",
    "  \n",
    "  class Main {\n",
    "    public static void main(String[] args) {\n",
    "  \n",
    "      // create objects led and halogen\n",
    "      Lamp a = new Lamp();\n",
    "      Lamp b = new Lamp();\n",
    "  \n",
    "      // turn on the light by\n",
    "      // calling method turnOn()\n",
    "      a.turnOn();\n",
    "  \n",
    "      // turn off the light by\n",
    "      // calling method turnOff()\n",
    "      b.turnOff();\n",
    "    }\n",
    "  }\n",
    "  Main.main(null);"
   ]
  },
  {
   "cell_type": "markdown",
   "metadata": {},
   "source": [
    "### Inheritance, extends\n",
    "* Inheritance is a way for attributes and methods to be inherited from one class to another\n",
    "* Extends is what allows you to bring those attributes from one class to another\n",
    "\n",
    "### Subclass constructor, super Keyword\n",
    "* A subclass inherits all the members from the superclass while the constructor of the superclass can be invoked from the subclass\n",
    "* Super keyword refers to superclass objects; it is used to call superclass methods and to access the superclass constructor\n",
    "\n",
    "### Overloading a method, same name different parameters\n",
    "* Overloading a method in java is a feature that allows a class to have more than one method with the same name, but with different parameters\n",
    "* Instead of defining two methods that do the same thing, it is better to overload one\n",
    "\n",
    "### Overriding a method, same signature of a method\n",
    "* Method overriding occurs when a subclass has the same method as the parent class\n",
    "* When a subclass provides a particular implementation of a method declared by one of its parent classes\n",
    "\n",
    "### Abstract Class, Abstract Method\n",
    "* A abstract class cannot be instantiated but they can be subclassed\n",
    "* An abstract method is a method that has just the method definition but does not contain implementation\n",
    "\n",
    "### Standard methods: toString(), equals(), hashCode()\n",
    "* Standard methods are blocks of code that can be called from another location in the program or class\n",
    "* toString(); returns the given value in string format\n",
    "* equals(); compares two strings and returns true if the strings are equal\n",
    "* hashCode(); returns an integer value generated by a hashing algorithm\n",
    "\n",
    "### Late binding of object, referencing superclass object, ie Animal a = new Chicken(); Animal b = new Goat();\n",
    "* Late binding is when the compiler should perform no argument checks, no type checks on a method call and should leave it all to the runtime\n",
    "\n",
    "### Polymorphism: any of overloading, overriding, late binding\n",
    "* Polymorphism is the ability of a class to provide different implementations of a method depending on the type of object that is passed to the method\n",
    "* Allows us to perform the same action in many different ways\n",
    "\n",
    "### Big O notation for Hash map, Binary Search, Single loop, Nested Loop\n",
    "* Big O notation describes the set of all algorithms that run no worse than a certain speed, no better than a certain speed, and at a certain speed\n",
    "* Shows the number of operations it will perform"
   ]
  }
 ],
 "metadata": {
  "kernelspec": {
   "display_name": "Java",
   "language": "java",
   "name": "java"
  },
  "language_info": {
   "codemirror_mode": "java",
   "file_extension": ".jshell",
   "mimetype": "text/x-java-source",
   "name": "java",
   "pygments_lexer": "java",
   "version": "17.0.4+8"
  },
  "orig_nbformat": 4,
  "vscode": {
   "interpreter": {
    "hash": "b0fa6594d8f4cbf19f97940f81e996739fb7646882a419484c72d19e05852a7e"
   }
  }
 },
 "nbformat": 4,
 "nbformat_minor": 2
}
