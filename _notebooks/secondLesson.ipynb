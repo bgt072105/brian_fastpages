{
 "cells": [
  {
   "cell_type": "markdown",
   "metadata": {},
   "source": [
    "# Recursion Hack"
   ]
  },
  {
   "cell_type": "code",
   "execution_count": 5,
   "metadata": {
    "vscode": {
     "languageId": "java"
    }
   },
   "outputs": [
    {
     "name": "stdout",
     "output_type": "stream",
     "text": [
      "**********\n",
      "*********\n",
      "********\n",
      "*******\n",
      "******\n",
      "*****\n",
      "****\n",
      "***\n",
      "**\n",
      "*\n",
      "\n"
     ]
    }
   ],
   "source": [
    "public void drawLine(int n) {\n",
    "    for (int i = 1; i <= n; i++) {\n",
    "        System.out.print(\"*\");\n",
    "    }\n",
    "    // prints new line outside of for loop\n",
    "    System.out.println();\n",
    "    if (n > 0) {\n",
    "        // avoids infinite recursion for only creating a new line when n is greater than zero\n",
    "        drawLine(n - 1);\n",
    "    }\n",
    "}\n",
    "drawLine(10);"
   ]
  },
  {
   "cell_type": "markdown",
   "metadata": {},
   "source": [
    "# Sorting Hack"
   ]
  },
  {
   "cell_type": "code",
   "execution_count": 12,
   "metadata": {
    "vscode": {
     "languageId": "java"
    }
   },
   "outputs": [
    {
     "name": "stdout",
     "output_type": "stream",
     "text": [
      "6, 5, 8, 13, 1, 11, 17, 24, 15, 14, 10, 23, 19, 3, 7, 22, 16, 21, 0, 2, 20, 4, 18, 9, 12, \n",
      "24, 23, 22, 21, 20, 19, 18, 17, 16, 15, 14, 13, 12, 11, 10, 9, 8, 7, 6, 5, 4, 3, 2, 1, 0, "
     ]
    }
   ],
   "source": [
    "public class Country {\n",
    "    private int size;\n",
    "\n",
    "    public Country(int size) {\n",
    "        this.size = size;\n",
    "    }\n",
    "    public int compareTo(Country country) {\n",
    "        int res = 0;\n",
    "        if (this.size < country.getSize()) {\n",
    "            res = -1;\n",
    "        }\n",
    "        if (this.size > country.getSize()) {\n",
    "            res = 1;\n",
    "        }\n",
    "        return res;\n",
    "    }\n",
    "    // get size of the country\n",
    "    public int getSize() {\n",
    "        return this.size;\n",
    "    }\n",
    "}\n",
    "\n",
    "public static void insertionSortArrayList(List<Country> list) {\n",
    "    for (int j = 1; j < list.size(); j++) {\n",
    "        Country current = list.get(j);\n",
    "        int i = j-1;\n",
    "        // finding spot to insert each country size\n",
    "        while ((i > -1) && ((list.get(i).compareTo(current)) == -1)) {\n",
    "            // -1 to sort from greatest to least\n",
    "            list.set(i+1, list.get(i));\n",
    "            i--;\n",
    "        }\n",
    "        list.set(i+1, current);\n",
    "    }\n",
    "}\n",
    "\n",
    "List<Country> list = new ArrayList<>();\n",
    "\n",
    "// Create elements w/ IDs 0-24\n",
    "for (int i = 0; i < 25; i++) {\n",
    "    list.add(new Country(i));\n",
    "}\n",
    "\n",
    "// To use insertion sort, shuffle the values\n",
    "Collections.shuffle(list);\n",
    "\n",
    "// This helps print values before sorting\n",
    "list.forEach(e -> System.out.print(e.getSize() + \", \"));\n",
    "\n",
    "// Sort the list\n",
    "insertionSortArrayList(list);\n",
    "\n",
    "System.out.println();\n",
    "\n",
    "// Display a sorted array\n",
    "list.forEach(e -> System.out.print(e.getSize() + \", \"));"
   ]
  },
  {
   "cell_type": "markdown",
   "metadata": {},
   "source": [
    "# Bonus Hack"
   ]
  },
  {
   "cell_type": "code",
   "execution_count": 19,
   "metadata": {
    "vscode": {
     "languageId": "java"
    }
   },
   "outputs": [
    {
     "name": "stdout",
     "output_type": "stream",
     "text": [
      "12\n",
      "30\n",
      "39\n",
      "42\n",
      "58\n",
      "75\n",
      "93\n",
      "153\n",
      "210\n",
      "365\n"
     ]
    }
   ],
   "source": [
    "public class Country {\n",
    "    private int size;\n",
    "\n",
    "    public Country(int size) {\n",
    "        this.size = size;\n",
    "    }\n",
    "    public int compareTo(Country country) {\n",
    "        int res = 0;\n",
    "        if (this.size < country.getSize()) {\n",
    "            res = -1;\n",
    "        }\n",
    "        if (this.size > country.getSize()) {\n",
    "            res = 1;\n",
    "        }\n",
    "        return res;\n",
    "    }\n",
    "    // get size of the country\n",
    "    public int getSize() {\n",
    "        return this.size;\n",
    "    }\n",
    "}\n",
    "\n",
    "public static class Heaps { // Static class so you can access it through the main class.\n",
    "\n",
    "    public void heap(ArrayList<Country> array, int index, int size) {\n",
    "\n",
    "        int largest = index; // root node\n",
    "        int left = 2 * index + 1; // left child node\n",
    "        int right = 2 * index + 2; // right child node\n",
    "\n",
    "        if (left < size && array.get(left).getSize() > array.get(largest).getSize()) {\n",
    "            largest = left;\n",
    "        }\n",
    "        if (right < size && array.get(right).getSize() > array.get(largest).getSize()) {\n",
    "            largest = right;\n",
    "        }\n",
    "\n",
    "        if (largest != index) {\n",
    "            Collections.swap(array, index, largest); // Swap the indexes not the values\n",
    "            heap(array, largest, size);\n",
    "        }\n",
    "\n",
    "    }\n",
    "\n",
    "}\n",
    "\n",
    "public static void main(String[] args) {\n",
    "\n",
    "    Heaps h = new Heaps(); // Not edited, but I would recommend static methods for this example\n",
    "\n",
    "    ArrayList<Country> array = new ArrayList<Country>();\n",
    "\n",
    "    // Arrays are automatically resized, no need to make an empty array, etc.\n",
    "\n",
    "    array.add(new Country(30));\n",
    "    array.add(new Country(365));\n",
    "    array.add(new Country(42));\n",
    "    array.add(new Country(93));\n",
    "    array.add(new Country(75));\n",
    "    array.add(new Country(210));\n",
    "    array.add(new Country(39));\n",
    "    array.add(new Country(58));\n",
    "    array.add(new Country(12));\n",
    "    array.add(new Country(153));\n",
    "\n",
    "    int size = array.size();\n",
    "\n",
    "    // Prerequisites for max heap sorting.\n",
    "\n",
    "    for(int i = size / 2 - 1; i >= 0; i--) {\n",
    "        h.heap(array, i, size);\n",
    "    }\n",
    "\n",
    "    for(int i = size - 1; i >= 0; i--) {\n",
    "        Collections.swap(array, i, 0);\n",
    "        h.heap(array, 0, i);\n",
    "    }\n",
    "\n",
    "    for (int i = 0; i < size; i++) {\n",
    "        System.out.println(array.get(i).getSize());\n",
    "    }\n",
    "\n",
    "}\n",
    "main(null);"
   ]
  },
  {
   "cell_type": "markdown",
   "metadata": {},
   "source": [
    "# Arraylist Hack #1\n",
    "\n",
    "Test if two arraylists contain the same elements in reverse order"
   ]
  },
  {
   "cell_type": "code",
   "execution_count": 21,
   "metadata": {
    "vscode": {
     "languageId": "java"
    }
   },
   "outputs": [
    {
     "name": "stdout",
     "output_type": "stream",
     "text": [
      "true\n",
      "false\n",
      "false\n"
     ]
    }
   ],
   "source": [
    "boolean areReverseOrder(ArrayList first, ArrayList second) {\n",
    "    // if the sizes of the two arraylists are not equal, they cannot be the same elements in reverse order\n",
    "    if (first.size() != second.size()) {\n",
    "        return false;\n",
    "    }\n",
    "\n",
    "    for (int i = 0; i < first.size(); i++) {\n",
    "        // if the i th index does not equal the opposite index of the other arraylist, the two arraylists are not the same elements in reverse order\n",
    "        if (first.get(i) != second.get(second.size() - i - 1)) {\n",
    "            return false;\n",
    "        }\n",
    "    }\n",
    "    // passed all checks\n",
    "    return true;\n",
    "}\n",
    "\n",
    "\n",
    "// true test case\n",
    "ArrayList<Integer> first = new ArrayList<Integer>();\n",
    "first.add(1);\n",
    "first.add(2);\n",
    "first.add(3);\n",
    "first.add(4);\n",
    "ArrayList<Integer> second = new ArrayList<Integer>();\n",
    "second.add(4);\n",
    "second.add(3);\n",
    "second.add(2);\n",
    "second.add(1);\n",
    "System.out.println(areReverseOrder(first, second));\n",
    "// compare arraylists of different sizes\n",
    "first.add(5);\n",
    "System.out.println(areReverseOrder(first, second));\n",
    "// compare arraylists that are not the same elements in reverse order\n",
    "ArrayList<Integer> third = new ArrayList<Integer>();\n",
    "third.add(1);\n",
    "third.add(2);\n",
    "third.add(3);\n",
    "third.add(4);\n",
    "ArrayList<Integer> fourth = new ArrayList<Integer>();\n",
    "fourth.add(4);\n",
    "fourth.add(3);\n",
    "fourth.add(3);\n",
    "fourth.add(3);\n",
    "System.out.println(areReverseOrder(first, second));"
   ]
  },
  {
   "cell_type": "markdown",
   "metadata": {},
   "source": [
    "# Arraylist Hack #2\n",
    "\n",
    "Remove every other element from an arraylist"
   ]
  },
  {
   "cell_type": "code",
   "execution_count": 23,
   "metadata": {
    "vscode": {
     "languageId": "java"
    }
   },
   "outputs": [
    {
     "name": "stdout",
     "output_type": "stream",
     "text": [
      "1\n",
      "3\n"
     ]
    }
   ],
   "source": [
    "void removeEveryOtherElement(ArrayList array) {\n",
    "    // working in reverse order as indexes get messed up due to size of arraylist changing\n",
    "    for (int i = array.size() - 1; i >= 0; i--) {\n",
    "        // remove every other element\n",
    "        if (i % 2 == 0) {\n",
    "            array.remove(i);\n",
    "        }\n",
    "    }\n",
    "}\n",
    "\n",
    "ArrayList<Integer> array = new ArrayList<Integer>();\n",
    "array.add(0);\n",
    "array.add(1);\n",
    "array.add(2);\n",
    "array.add(3);\n",
    "array.add(4);\n",
    "removeEveryOtherElement(array);\n",
    "for (int i = 0; i < array.size(); i++) {\n",
    "    System.out.println(array.get(i));\n",
    "}"
   ]
  }
 ],
 "metadata": {
  "kernelspec": {
   "display_name": "Java",
   "language": "java",
   "name": "java"
  },
  "language_info": {
   "codemirror_mode": "java",
   "file_extension": ".jshell",
   "mimetype": "text/x-java-source",
   "name": "Java",
   "pygments_lexer": "java",
   "version": "17.0.4+8"
  },
  "orig_nbformat": 4
 },
 "nbformat": 4,
 "nbformat_minor": 2
}
