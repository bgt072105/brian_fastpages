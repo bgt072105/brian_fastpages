{
 "cells": [
  {
   "cell_type": "markdown",
   "metadata": {},
   "source": [
    "Early seed award\n",
    "\n",
    "* Write a sample binary addition 1 + 1 = 10\n",
    "* Have Java Code cell on screen at start of lecture\n",
    "* Don't tell anyone"
   ]
  },
  {
   "cell_type": "code",
   "execution_count": 19,
   "metadata": {
    "vscode": {
     "languageId": "java"
    }
   },
   "outputs": [
    {
     "name": "stdout",
     "output_type": "stream",
     "text": [
      "10\n"
     ]
    }
   ],
   "source": [
    "int first = 1;\n",
    "int second = 1;\n",
    "String firstString = String.valueOf(first);\n",
    "String secondString = String.valueOf(second);\n",
    "int carryover = 0;\n",
    "String result = \"\";\n",
    "for (int i = firstString.length() - 1; i >= 0; i--) {\n",
    "    String firstChar = String.valueOf(firstString.charAt(i));\n",
    "    String secondChar = String.valueOf(secondString.charAt(i));\n",
    "    int numOfOnes = 0;\n",
    "    if (firstChar.equals(\"1\")) {\n",
    "        numOfOnes++;\n",
    "    }\n",
    "    if (secondChar.equals(\"1\")) {\n",
    "        numOfOnes++;\n",
    "    }\n",
    "    if (carryover == 1) {\n",
    "        numOfOnes++;\n",
    "    }\n",
    "    if (numOfOnes % 2 == 0) {\n",
    "        result = \"0\" + result;\n",
    "    } else {\n",
    "        result = \"1\" + result;\n",
    "    }\n",
    "    if (numOfOnes >= 2) {\n",
    "        carryover = 1;\n",
    "    }\n",
    "}\n",
    "if (carryover == 1) {\n",
    "    result = \"1\" + result;\n",
    "}\n",
    "System.out.println(result);"
   ]
  },
  {
   "cell_type": "markdown",
   "metadata": {},
   "source": [
    "Start with some small code exercises\n",
    "\n",
    "* Write a Jupyter notebook code example on the following primitive types with a code example (4 to 5 lines), preference would be using array and methods like substring and random as applicable: int, double, boolean, char."
   ]
  },
  {
   "cell_type": "code",
   "execution_count": null,
   "metadata": {
    "vscode": {
     "languageId": "java"
    }
   },
   "outputs": [],
   "source": []
  },
  {
   "cell_type": "markdown",
   "metadata": {},
   "source": [
    "* Now convert each of the examples to corresponding Wrapper classes, using arrays.\n",
    "* Expression of these in Class or PBL forms is an option. But the review must be easy for me to see work."
   ]
  },
  {
   "cell_type": "code",
   "execution_count": null,
   "metadata": {
    "vscode": {
     "languageId": "java"
    }
   },
   "outputs": [],
   "source": []
  }
 ],
 "metadata": {
  "kernelspec": {
   "display_name": "Java",
   "language": "java",
   "name": "java"
  },
  "language_info": {
   "codemirror_mode": "java",
   "file_extension": ".jshell",
   "mimetype": "text/x-java-source",
   "name": "Java",
   "pygments_lexer": "java",
   "version": "17.0.4+8"
  },
  "orig_nbformat": 4
 },
 "nbformat": 4,
 "nbformat_minor": 2
}
