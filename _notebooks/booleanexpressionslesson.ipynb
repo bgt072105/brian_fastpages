{
 "cells": [
  {
   "cell_type": "markdown",
   "metadata": {},
   "source": [
    "# Unit 3 Lesson on Boolean Expressions and If-Statements\n",
    "> Jupyter Notebook containing learnings about boolean expressions and if-statements.\n"
   ]
  },
  {
   "cell_type": "markdown",
   "metadata": {},
   "source": [
    "# 3.1 Boolean Expressions\n",
    "\n",
    "* Represent logical and tell whether something is true or false\n",
    "* =, !, <, >, >= are different operators"
   ]
  },
  {
   "cell_type": "markdown",
   "metadata": {},
   "source": [
    "# 3.2 If Statements and Control Flow\n",
    "\n",
    "* Perform computation depending on whether a Boolean conditions is true or false\n",
    "* If Statements: If the statement is true, it will return true; otherwise false"
   ]
  },
  {
   "cell_type": "markdown",
   "metadata": {},
   "source": [
    "# 3.3 If-Else Statements\n",
    "\n",
    "* Run a block of code if there is more than one alternative"
   ]
  },
  {
   "cell_type": "markdown",
   "metadata": {},
   "source": [
    "# 3.4 Else-If Statements\n",
    "\n",
    "* More conditions\n",
    "* If the first condition is proven false, the other conditions will be evaluated"
   ]
  },
  {
   "cell_type": "markdown",
   "metadata": {},
   "source": [
    "# 3.5 Compound Boolean Statements\n",
    "\n",
    "* Nested if statements: if-statements within if-statement -- allows more flexibility to run the code; if outer if-statement is false, internal if-statement won't be evaluated\n",
    "* Logical operators: && (and) ll(or) and !(not)\n",
    "* Short circulated evaluation: the result of a compound Boolean expression can be determined just by looking at a few expressions"
   ]
  },
  {
   "cell_type": "markdown",
   "metadata": {},
   "source": [
    "# 3.6 Compound Boolean Expressions\n",
    "\n",
    "* De Morgan's laws: simplifies Boolean expressions\n",
    "* !(a&7B) = (!a ll !b)\n",
    "* !(a ll b) = (!a && !b)"
   ]
  },
  {
   "cell_type": "markdown",
   "metadata": {},
   "source": [
    "# 3.7 Comparing Objects\n",
    "\n",
    "* Use '==' to see if two objects are referring to aliases for the same object\n",
    "* Use '.equals()' to see if the attributes of two objects are the same\n",
    "* Ex: vehicle car = new Vehicle(\"blue,\" 4); vehicle car2 = new Vehicle (\"blue,\" 4) --> Vehicle blue car = car\n",
    "* Both the vehicles have the same attributes"
   ]
  },
  {
   "cell_type": "code",
   "execution_count": null,
   "metadata": {
    "vscode": {
     "languageId": "java"
    }
   },
   "outputs": [],
   "source": [
    "boolean cloudy = true;\n",
    "boolean rainy = false;\n",
    "\n",
    "if (!cloudy && !rainy) {\n",
    "    System.out.println(\"Don't forget to bring a hat!\");\n",
    "}"
   ]
  },
  {
   "cell_type": "markdown",
   "metadata": {},
   "source": [
    "# 2019 FRQ 1"
   ]
  },
  {
   "cell_type": "markdown",
   "metadata": {},
   "source": [
    "# Part A"
   ]
  },
  {
   "cell_type": "code",
   "execution_count": null,
   "metadata": {
    "vscode": {
     "languageId": "java"
    }
   },
   "outputs": [],
   "source": [
    "public static int numberOfLeapYears(int year1, int year2)\n",
    "{\n",
    "    int count = 0;\n",
    "    for (int y = year1; y <= year2; y++) {\n",
    "    if (isLeapYear(y))\n",
    "    {\n",
    "    count++; }\n",
    "    }\n",
    "    return count;\n",
    "}"
   ]
  },
  {
   "cell_type": "markdown",
   "metadata": {},
   "source": [
    "# Part B"
   ]
  },
  {
   "cell_type": "code",
   "execution_count": null,
   "metadata": {
    "vscode": {
     "languageId": "java"
    }
   },
   "outputs": [],
   "source": [
    "public static int dayOfWeek(int month, int day, int year)\n",
    "{\n",
    " int startDay = firstDayOfYear(year);\n",
    " int nthDay = dayOfYear(month, day, year);\n",
    " int returnDay = (startDay + nthDay - 1) % 7;\n",
    " return returnDay;\n",
    "}"
   ]
  },
  {
   "cell_type": "markdown",
   "metadata": {},
   "source": [
    "# Problem 2:"
   ]
  },
  {
   "cell_type": "code",
   "execution_count": 2,
   "metadata": {
    "vscode": {
     "languageId": "java"
    }
   },
   "outputs": [
    {
     "name": "stdout",
     "output_type": "stream",
     "text": [
      "coeff a: \n",
      "coeff b: \n",
      "coeff c: \n",
      "The roots are -8.75 and 2.75\n"
     ]
    }
   ],
   "source": [
    "import java.util.Scanner;\n",
    "public class Problem2 {\n",
    "\n",
    "    public static void main(String[] args) {\n",
    "        Scanner input = new Scanner(System.in);\n",
    "        System.out.println(\"coeff a: \");\n",
    "        double a = input.nextDouble();\n",
    "        System.out.println(\"coeff b: \");\n",
    "        double b = input.nextDouble();\n",
    "        System.out.println(\"coeff c: \");\n",
    "        double c = input.nextDouble();\n",
    "\n",
    "        double root1 = (-b + (b * b - 4 * a * c)/(2*a));\n",
    "        double root2 = (-b - (b * b - 4 * a * c)/(2*a));\n",
    "        System.out.println(\"The roots are \" + root1 + \" and \" + root2);\n",
    "        }\n",
    "    }\n",
    "\n",
    "Problem2.main(null);"
   ]
  },
  {
   "cell_type": "markdown",
   "metadata": {},
   "source": [
    "# Problem 4:"
   ]
  },
  {
   "cell_type": "code",
   "execution_count": 1,
   "metadata": {
    "vscode": {
     "languageId": "java"
    }
   },
   "outputs": [
    {
     "name": "stdout",
     "output_type": "stream",
     "text": [
      "num: 4.0\n",
      "pos\n"
     ]
    }
   ],
   "source": [
    "public class Problem4 {\n",
    "\n",
    "    public static void main(String[] args) {\n",
    "        Scanner input = new Scanner(System.in);\n",
    "\n",
    "        System.out.print(\"num: \");\n",
    "        double number = input.nextDouble();\n",
    "        System.out.println(number);\n",
    "\n",
    "        if (number > 0) {\n",
    "            System.out.println(\"pos\");\n",
    "        } else if (number == 0) {\n",
    "            System.out.println(\"zero\");\n",
    "        } else {\n",
    "            System.out.println(\"neg\");\n",
    "        }\n",
    "\n",
    "        if (number < 1) {\n",
    "            System.out.println(\"neg\");\n",
    "        } else if (number > 1000000) {\n",
    "            System.out.println(\"too big \");\n",
    "        }\n",
    "\n",
    "    }\n",
    "}\n",
    "\n",
    "Problem4.main(null);"
   ]
  },
  {
   "cell_type": "markdown",
   "metadata": {},
   "source": [
    "# Problem 6:"
   ]
  },
  {
   "cell_type": "code",
   "execution_count": 3,
   "metadata": {
    "vscode": {
     "languageId": "java"
    }
   },
   "outputs": [
    {
     "name": "stdout",
     "output_type": "stream",
     "text": [
      "num 1: 2.0\n",
      "num 2: 3.0\n",
      "false\n"
     ]
    }
   ],
   "source": [
    "public class Problem6 {\n",
    "\n",
    "    static double truncate(double n, int decimalPlace) {\n",
    "        n = n*Math.pow(10, decimalPlace);\n",
    "        n = Math.floor(n);\n",
    "        n = n/Math.pow(10, decimalPlace);\n",
    "\n",
    "        return n;\n",
    "    }\n",
    "\n",
    "    public static void main(String[] args) {\n",
    "        Scanner input = new Scanner(System.in);\n",
    "\n",
    "        System.out.print(\"num 1: \");\n",
    "        double number1 = input.nextDouble();\n",
    "        double num1Trun = truncate(number1, 3);\n",
    "        System.out.println(number1);\n",
    "\n",
    "        System.out.print(\"num 2: \");\n",
    "        double number2 = input.nextDouble();\n",
    "        double num2Trun = truncate(number2, 3);\n",
    "        System.out.println(number2);\n",
    "\n",
    "        if (num1Trun == num2Trun) {\n",
    "            System.out.println(\"true\");\n",
    "        } else {\n",
    "            System.out.println(\"false\");\n",
    "        }\n",
    "    }\n",
    "}\n",
    "\n",
    "Problem6.main(null);"
   ]
  },
  {
   "cell_type": "markdown",
   "metadata": {},
   "source": [
    "# Problem 8:"
   ]
  },
  {
   "cell_type": "code",
   "execution_count": 5,
   "metadata": {
    "vscode": {
     "languageId": "java"
    }
   },
   "outputs": [
    {
     "ename": "CompilationException",
     "evalue": "",
     "output_type": "error",
     "traceback": [
      "\u001b[1m\u001b[30m|   \u001b[1m\u001b[30m        } else if (\u001b[0m\u001b[1m\u001b[30m\u001b[41mvowels.contains\u001b[0m\u001b[1m\u001b[30m(letter)) {\u001b[0m",
      "\u001b[1m\u001b[31mcannot find symbol\u001b[0m",
      "\u001b[1m\u001b[31m  symbol:   method contains(java.lang.String)\u001b[0m",
      ""
     ]
    }
   ],
   "source": [
    "public class Problem8 {\n",
    "\n",
    "    \n",
    "    public static void main(String[] args) {\n",
    "        Scanner input = new Scanner(System.in);\n",
    "\n",
    "        System.out.print(\"enter letter: \");\n",
    "        String letter = input.nextLine();\n",
    "        System.out.println(letter);\n",
    "\n",
    "        String[] vowels = {\"a\", \"e\", \"i\", \"o\", \"u\", \"A\", \"E\", \"I\", \"O\", \"U\"};\n",
    "\n",
    "        if(letter.length() > 1) {\n",
    "            System.out.println(\"not one letter\");\n",
    "        } else if (!letter.matches(\"[a-zA-Z]+\")) {\n",
    "            System.out.println(\"not a letter\");\n",
    "        } else if (vowels.contains(letter)) {\n",
    "            System.out.println(\"vowel\");\n",
    "        } else {\n",
    "            System.out.println(\"consonant\");\n",
    "        }\n",
    "\n",
    "\n",
    "        input.close();\n",
    "\n",
    "        \n",
    "    }\n",
    "}\n",
    "\n",
    "Problem8.main(null);"
   ]
  },
  {
   "cell_type": "markdown",
   "metadata": {},
   "source": [
    "# Problem 10:"
   ]
  },
  {
   "cell_type": "code",
   "execution_count": 6,
   "metadata": {
    "vscode": {
     "languageId": "java"
    }
   },
   "outputs": [
    {
     "name": "stdout",
     "output_type": "stream",
     "text": [
      "1\n",
      "2\n",
      "3\n",
      "4\n",
      "5\n",
      "6\n",
      "7\n",
      "8\n",
      "9\n",
      "10\n"
     ]
    }
   ],
   "source": [
    "public class Problem10 {\n",
    "\n",
    "    public static void main(String[] args) {\n",
    "\n",
    "    int[] n = {1, 2, 3, 4, 5, 6, 7, 8, 9, 10};\n",
    "        for (int num : n) {\n",
    "            System.out.println(num);\n",
    "        }\n",
    "    }\n",
    "}\n",
    "\n",
    "Problem10.main(null);"
   ]
  },
  {
   "cell_type": "markdown",
   "metadata": {},
   "source": [
    "# Problem 12:"
   ]
  },
  {
   "cell_type": "code",
   "execution_count": 7,
   "metadata": {
    "vscode": {
     "languageId": "java"
    }
   },
   "outputs": [
    {
     "name": "stdout",
     "output_type": "stream",
     "text": [
      "Input nums:\n",
      "1\n",
      "2\n",
      "3\n",
      "4\n",
      "5\n",
      "sum: 15\n",
      "avg: 3.0\n"
     ]
    }
   ],
   "source": [
    "public class Problem12 {\n",
    "\n",
    "    \n",
    "    public static void main(String[] args) {\n",
    "        int sum = 0;\n",
    "        double average;\n",
    "\n",
    "        System.out.println(\"Input nums:\");\n",
    "        Scanner input = new Scanner(System.in);\n",
    "        for (int i = 0; i < 5; i++) {\n",
    "            int num = input.nextInt();\n",
    "            System.out.println(num);\n",
    "            sum += num;\n",
    "        }\n",
    "        average = sum/5;\n",
    "\n",
    "        System.out.println(\"sum: \" + sum);\n",
    "        System.out.println(\"avg: \" + average);\n",
    "        \n",
    "    }\n",
    "}\n",
    "\n",
    "Problem12.main(null);"
   ]
  },
  {
   "cell_type": "markdown",
   "metadata": {},
   "source": [
    "# Problem 14:"
   ]
  },
  {
   "cell_type": "code",
   "execution_count": 9,
   "metadata": {
    "vscode": {
     "languageId": "java"
    }
   },
   "outputs": [
    {
     "name": "stdout",
     "output_type": "stream",
     "text": [
      "num: \n",
      "terms: \n",
      "1 x 0 = 0\n",
      "1 x 1 = 1\n",
      "1 x 2 = 2\n"
     ]
    }
   ],
   "source": [
    "public class Problem14 {\n",
    "\n",
    "    public static void main(String[] args) {\n",
    "\n",
    "        System.out.println(\"num: \");\n",
    "        Scanner input = new Scanner(System.in);\n",
    "        int num = input.nextInt();\n",
    "\n",
    "        System.out.println(\"terms: \");\n",
    "        int terms = input.nextInt();\n",
    "\n",
    "        for (int i = 0; i <= terms; i++) {\n",
    "            System.out.println(num + \" x \" + i + \" = \" + num*i);\n",
    "        }        \n",
    "    }\n",
    "}\n",
    "\n",
    "Problem14.main(null);"
   ]
  },
  {
   "cell_type": "markdown",
   "metadata": {},
   "source": [
    "# Problem 16:"
   ]
  },
  {
   "cell_type": "code",
   "execution_count": 10,
   "metadata": {
    "vscode": {
     "languageId": "java"
    }
   },
   "outputs": [
    {
     "name": "stdout",
     "output_type": "stream",
     "text": [
      "rows: 3\n",
      "1\n",
      "12\n",
      "123\n"
     ]
    }
   ],
   "source": [
    "public class Problem16 {\n",
    "\n",
    "    public static void main(String[] args) {\n",
    "        \n",
    "        System.out.print(\"rows: \");\n",
    "        Scanner input = new Scanner(System.in);\n",
    "        int num = input.nextInt();\n",
    "        System.out.println(num);\n",
    "\n",
    "        for (int i = 1; i <= num; i++) {\n",
    "            for (int j = 1; j <= i; j++) {\n",
    "                System.out.print(j);\n",
    "            }\n",
    "            System.out.println();\n",
    "        }\n",
    "    }\n",
    "}\n",
    "\n",
    "Problem16.main(null);"
   ]
  },
  {
   "cell_type": "markdown",
   "metadata": {},
   "source": [
    "# Problem 18:"
   ]
  },
  {
   "cell_type": "code",
   "execution_count": 11,
   "metadata": {
    "vscode": {
     "languageId": "java"
    }
   },
   "outputs": [
    {
     "name": "stdout",
     "output_type": "stream",
     "text": [
      "rows: 3\n",
      "1\t\n",
      "2\t3\t\n",
      "4\t5\t6\t\n"
     ]
    }
   ],
   "source": [
    "public class Problem18 {\n",
    "\n",
    "    \n",
    "    public static void main(String[] args) {\n",
    "        \n",
    "\n",
    "        System.out.print(\"rows: \");\n",
    "        Scanner input = new Scanner(System.in);\n",
    "        int num = input.nextInt();\n",
    "        System.out.println(num);\n",
    "\n",
    "        int count = 1;\n",
    "\n",
    "        for (int i = 1; i <= num; i++) {\n",
    "            \n",
    "            for (int j = 1; j <= i; j++) {\n",
    "                System.out.print(count + \"\\t\");\n",
    "                count++;\n",
    "            }\n",
    "            System.out.println();\n",
    "        }\n",
    "    }\n",
    "}\n",
    "\n",
    "Problem18.main(null);"
   ]
  },
  {
   "cell_type": "markdown",
   "metadata": {},
   "source": [
    "# Problem 20:"
   ]
  },
  {
   "cell_type": "code",
   "execution_count": 13,
   "metadata": {
    "vscode": {
     "languageId": "java"
    }
   },
   "outputs": [
    {
     "name": "stdout",
     "output_type": "stream",
     "text": [
      "rows: 3\n",
      "1\t\n",
      "2\t3\t\n",
      "4\t5\t6\t\n"
     ]
    }
   ],
   "source": [
    "public class Problem20 {\n",
    "\n",
    "    \n",
    "    public static void main(String[] args) {\n",
    "        \n",
    "\n",
    "        System.out.print(\"rows: \");\n",
    "        Scanner input = new Scanner(System.in);\n",
    "        int num = input.nextInt();\n",
    "        System.out.println(num);\n",
    "\n",
    "        int count = 1;\n",
    "\n",
    "        for (int i = 1; i <= num; i++) {\n",
    "            \n",
    "            for (int j = 1; j <= i; j++) {\n",
    "                System.out.print(count + \"\\t\");\n",
    "                count++;\n",
    "            }\n",
    "            System.out.println();\n",
    "        }\n",
    "    }\n",
    "}\n",
    "\n",
    "Problem20.main(null);"
   ]
  }
 ],
 "metadata": {
  "kernelspec": {
   "display_name": "Java",
   "language": "java",
   "name": "java"
  },
  "language_info": {
   "codemirror_mode": "java",
   "file_extension": ".jshell",
   "mimetype": "text/x-java-source",
   "name": "Java",
   "pygments_lexer": "java",
   "version": "17.0.4+8"
  },
  "orig_nbformat": 4,
  "vscode": {
   "interpreter": {
    "hash": "aee8b7b246df8f9039afb4144a1f6fd8d2ca17a180786b69acc140d282b71a49"
   }
  }
 },
 "nbformat": 4,
 "nbformat_minor": 2
}
