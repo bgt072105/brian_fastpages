{
 "cells": [
  {
   "cell_type": "markdown",
   "metadata": {},
   "source": [
    "# 52 Question MCQ\n",
    "> Quiz Corrections for 52 Question MCQ Test\n",
    "\n"
   ]
  },
  {
   "cell_type": "markdown",
   "metadata": {},
   "source": [
    "https://user-images.githubusercontent.com/89488588/213972894-442ef683-28ba-40d3-83b4-04e51696299d.png"
   ]
  },
  {
   "cell_type": "markdown",
   "metadata": {},
   "source": [
    "# Question 2\n",
    "\n",
    "I chose option C, but option D was correct because every element of mat is modified, except those in the first row and the first column, which retain their initial values. Elements are traversed in row-major order. Each element of mat is replaced by the sum of the element immediately above it and the element to its left. In row 1, mat[1][1] is assigned the value mat[0][1] + mat[1][0] = 1 + 1 = 2, then mat[1][2] is assigned the value 1 + 2 = 3, and finally mat[1][3] is assigned the value 1 + 3 = 4. In row 2, mat[2][1] is assigned 2 + 1 = 3, and then mat[2][2] is assigned 3 + 3 = 6.."
   ]
  },
  {
   "cell_type": "markdown",
   "metadata": {},
   "source": [
    "# Question 6\n",
    "\n",
    "I chose option C, but option E was correct because prior to the start of the nested for loops, the value of found is initialized to the element at row 0, column 0 in values and result is initialized to 0.The outer for loop iterates across all rows in values. The inner for loop iterates across the column indices of each row. When an element is located in the two-dimensional array that is larger than the current value stored in found, then this value is assigned to found and the column index is assigned to result. When the nested loop structure stops executing, the largest element in values is stored in found and the column in which that element was located is stored in result."
   ]
  },
  {
   "cell_type": "markdown",
   "metadata": {},
   "source": [
    "# Question 7\n",
    "\n",
    "I chose option C, but option B was correct because the combine method compares corresponding substrings of length 1 from input strings one and two. If the substrings are the same, the substring is appended to res; otherwise, \"0\" is appended to res. The first and second characters of res are \"0\" because the characters in position 0 and the characters in position 1 of one and two differ. The third character of res is \"1\" because the characters in position 2 of one and two are both \"1\". The fourth character in res is \"0\" because the characters in position 3 of one and two differ. The fifth character in res is \"0\" because the last characters of one and two are both \"0\". The value \"00100\" is returned."
   ]
  },
  {
   "cell_type": "markdown",
   "metadata": {},
   "source": [
    "# Question 25\n",
    "\n",
    "I chose option C, but option B was correct because List is an interface, which an ArrayList implements. Please note that List is no longer tested as part of the AP CSA exam and ArrayList will be used instead. The manipulate method contains a for loop with a loop control variable k that starts at the right most index of animals, decrements by 1 each time, until k is equal to 0. In the first iteration, when k is 5, if the element of animals at 5 (“baboon”) starts with a “b”, which it does, then this value is removed from the list and inserted at index 1. The list would then be {“bear”, “baboon”, “zebra”, “bass”, “cat”, “koala”}. In the second iteration, when k is 4, the element of animals at 4 (“cat”) does not start with a “b” and no changes are made to the list. In the third iteration, when k is 3, the element of animals at 3 (“bass”) starts with a “b”. This value is removed from the list and inserted at index 3. Since it was already at index 3, the list would not change. In the fourth iteration, when k is 2, the element of animals at 2 (“zebra”) does not start with a “b” and no changes are made to the list.  In the fifth iteration, when k is 1, the element of animals at 1 (“baboon”) starts with a “b”. It is removed from the list and inserted at index 5. The list would then be {“bear”, “zebra”, “bass”, “cat”, “koala”, “baboon”}.  Finally, k decrements to 0 which is not greater than 0 so the loop terminates."
   ]
  },
  {
   "cell_type": "markdown",
   "metadata": {},
   "source": [
    "# Question 28\n",
    "\n",
    "I chose option C, but option D was correct because the answer should be [8, 4, 3, 6, 11, 1, 12, 9, 7]."
   ]
  },
  {
   "cell_type": "markdown",
   "metadata": {},
   "source": [
    "# Question 33\n",
    "\n",
    "I chose option B, but option A was correct because the outer for loop iterates over every row of numbers and assigns each row to the array row.  The inner loop iterates over the array row accessing each element and assigning it to n. Then n is printed to the screen. In the first iteration of the outer loop, row is equal to {1, 2, 3}, and the inner loop will assign each successive value in row to n and print it to the screen, meaning 123 will be printed. For the second iteration of the outer loop, row is equal to {4, 5, 6}, and the inner loop will assign each successive value in row to n and print it to the screen, meaning 456 will be printed after 123, giving us the output 123456."
   ]
  },
  {
   "cell_type": "markdown",
   "metadata": {},
   "source": [
    "# Question 40\n",
    "\n",
    "I chose option D, but option C was correct because the answer should be III only. \n"
   ]
  },
  {
   "cell_type": "markdown",
   "metadata": {},
   "source": [
    "# Question 44\n",
    "\n",
    "I chose option C, but option D was correct because the method assigns the shortest string that occurs in any element of arr between arr[n] and arr[arr.length - 1], inclusive, to result[n]. The shortest string found between arr[0] and arr[3] is \"of\", so result[0] is assigned the value \"of\". The shortest string found between arr[1] and arr[3] is also \"of\", so result[1] is also assigned the value \"of\". The same is true for the part of the array that begins at index 2 and ends at index 3, so result[2] is also assigned the value \"of\". In the last iteration of the outer for loop, there are no values to consider after arr[3], so result[3] is assigned the value \"spring\"."
   ]
  },
  {
   "cell_type": "markdown",
   "metadata": {},
   "source": [
    "# Question 45\n",
    "\n",
    "I chose option B, but option A was correct because Line 12 is executed each time the variable sm is updated because a new smallest value is found. When j has the value 0, sm is updated for \"day\" and \"of\". When j has the value 1, sm is updated for \"of\". When j has the value 4, sm is updated for \"year\". When j has any of the values 2, 3, or 5, sm is not updated. Line 12 is executed four times."
   ]
  },
  {
   "cell_type": "markdown",
   "metadata": {},
   "source": [
    "# Question 46\n",
    "\n",
    "I chose option C, but option B was correct because to calculate the average age in a given major, you have to find all the students in the given major, add up their ages, and divide by the total number of students in the major. Since theMajor is a String, the if statement needs to use .equals to compare theMajor with the major of k, found by calling the getMajor() method on k. If this boolean expression is true, we need to add the age of k, found by calling the getAge() method on k to sum and increase count by 1."
   ]
  },
  {
   "cell_type": "markdown",
   "metadata": {},
   "source": [
    "# Question 47\n",
    "\n",
    "I chose option E, but option D was correct because the nested for loops traverse the two-dimensional array values. The first element of each row is doubled and then the sum of all elements is computed as 2+2+3+8+5+6=26."
   ]
  },
  {
   "cell_type": "markdown",
   "metadata": {},
   "source": [
    "# Question 49\n",
    "\n",
    "I chose option C, but option B was correct because the answer should be 54."
   ]
  }
 ],
 "metadata": {
  "kernelspec": {
   "display_name": "Python 3.10.8 64-bit",
   "language": "python",
   "name": "python3"
  },
  "language_info": {
   "codemirror_mode": {
    "name": "ipython",
    "version": 3
   },
   "file_extension": ".py",
   "mimetype": "text/x-python",
   "name": "python",
   "nbconvert_exporter": "python",
   "pygments_lexer": "ipython3",
   "version": "3.10.9"
  },
  "orig_nbformat": 4,
  "vscode": {
   "interpreter": {
    "hash": "b0fa6594d8f4cbf19f97940f81e996739fb7646882a419484c72d19e05852a7e"
   }
  }
 },
 "nbformat": 4,
 "nbformat_minor": 2
}
