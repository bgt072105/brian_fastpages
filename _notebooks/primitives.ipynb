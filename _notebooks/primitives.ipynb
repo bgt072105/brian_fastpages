{
 "cells": [
  {
   "cell_type": "markdown",
   "metadata": {},
   "source": [
    "# Primitives Notebook\n",
    "> Primitves Jupyter Notebook.\n",
    "\n"
   ]
  },
  {
   "cell_type": "code",
   "execution_count": 5,
   "metadata": {
    "vscode": {
     "languageId": "java"
    }
   },
   "outputs": [
    {
     "name": "stdout",
     "output_type": "stream",
     "text": [
      "Enter grade points or enter 9 to quit\n"
     ]
    }
   ],
   "source": [
    "import java.util.Scanner;\n",
    "public class Primitives {\n",
    "    public static void main(String[] args) {\n",
    "        int GradePointTotal = 0;\n",
    "        int NumberOfClasses = 0;\n",
    "        Scanner GradePointScanner = new Scanner(System.in);  // Create a Scanner object\n",
    "        boolean TakingInputs = true;\n",
    "        while (TakingInputs) {\n",
    "            System.out.println(\"Enter grade points or enter 9 when finished to calculate\");\n",
    "\n",
    "            int GradePoint = GradePointScanner.nextInt();  // Read user input\n",
    "            if (GradePoint == 9){\n",
    "                TakingInputs = false;\n",
    "            }\n",
    "            else{\n",
    "                GradePointTotal += GradePoint;\n",
    "                NumberOfClasses += 1;\n",
    "            }\n",
    "        }\n",
    "        double GradePointAverage = (double) GradePointTotal / NumberOfClasses;\n",
    "        System.out.println(\"Grade Point Total: \" + GradePointTotal);\n",
    "        System.out.println(\"Number of Classes: \" + NumberOfClasses);\n",
    "        System.out.println(\"Grade Point Average: \" + GradePointAverage);\n",
    "    }\n",
    "  }\n",
    "  Primitives.main(null)"
   ]
  }
 ],
 "metadata": {
  "kernelspec": {
   "display_name": "Java",
   "language": "java",
   "name": "java"
  },
  "language_info": {
   "codemirror_mode": "java",
   "file_extension": ".jshell",
   "mimetype": "text/x-java-source",
   "name": "Java",
   "pygments_lexer": "java",
   "version": "17.0.4+8"
  },
  "orig_nbformat": 4,
  "vscode": {
   "interpreter": {
    "hash": "9183a533545d0b65b81c3395c708e1f9395188a8f9d11da77e00daa9d2dfddea"
   }
  }
 },
 "nbformat": 4,
 "nbformat_minor": 2
}
