{
 "cells": [
  {
   "cell_type": "markdown",
   "metadata": {},
   "source": [
    "# Array Lists Notebook\n",
    "> Jupyter Notebook for Array Lists\n",
    "\n"
   ]
  },
  {
   "cell_type": "code",
   "execution_count": 6,
   "metadata": {
    "vscode": {
     "languageId": "java"
    }
   },
   "outputs": [
    {
     "name": "stdout",
     "output_type": "stream",
     "text": [
      "The average velocity is 32.4\n"
     ]
    }
   ],
   "source": [
    "/*\n",
    " * Creator: Nighthawk Coding Society\n",
    " * Mini Lab Name: Fibonacci sequence, featuring a Stream Algorithm\n",
    " * \n",
    " */\n",
    "\n",
    "import java.util.ArrayList;  \n",
    "ArrayList<Integer> velocitydatalist = new ArrayList<>();\n",
    "\n",
    "velocitydatalist.add(3);\n",
    "velocitydatalist.add(7);\n",
    "velocitydatalist.add(15);\n",
    "velocitydatalist.add(22);\n",
    "velocitydatalist.add(115);\n",
    "\n",
    "int count = velocitydatalist.size();\n",
    "int add = 0;\n",
    "for(int i=0; i<count; i++){\n",
    "    add += velocitydatalist.get(i);\n",
    "}\n",
    "\n",
    "double average = (double)add/count;\n",
    "\n",
    "System.out.println(\"The average velocity is \"+average);"
   ]
  }
 ],
 "metadata": {
  "kernelspec": {
   "display_name": "Java",
   "language": "java",
   "name": "java"
  },
  "language_info": {
   "codemirror_mode": "java",
   "file_extension": ".jshell",
   "mimetype": "text/x-java-source",
   "name": "Java",
   "pygments_lexer": "java",
   "version": "17.0.4+8"
  },
  "orig_nbformat": 4,
  "vscode": {
   "interpreter": {
    "hash": "9183a533545d0b65b81c3395c708e1f9395188a8f9d11da77e00daa9d2dfddea"
   }
  }
 },
 "nbformat": 4,
 "nbformat_minor": 2
}
