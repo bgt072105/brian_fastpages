{
 "cells": [
  {
   "cell_type": "markdown",
   "metadata": {},
   "source": [
    "# Primitives Notebook\n",
    "> Learning Primitives\n",
    "\n"
   ]
  },
  {
   "cell_type": "code",
   "execution_count": 8,
   "metadata": {},
   "outputs": [
    {
     "name": "stdout",
     "output_type": "stream",
     "text": [
      "Grade: 1\n",
      "Grade: 2\n",
      "Grade: 3\n",
      "Grade: 3\n",
      "Grade: 4\n",
      "Grade Point Total: 13\n",
      "Number of Classes: 5\n",
      "Grade Point Average: 2.6\n"
     ]
    }
   ],
   "source": [
    "import java.util.Scanner;\n",
    "public class Primitives {\n",
    "    public static void main(String[] args) {\n",
    "        int GradePointTotal = 0;\n",
    "        // int NumberOfClasses = 0;\n",
    "        // Scanner GradePointScanner = new Scanner(System.in);  // Create a Scanner object\n",
    "        // boolean TakingInputs = true;\n",
    "        // while (TakingInputs) {\n",
    "        //     System.out.println(\"Enter grade points or enter 9 when finished to calculate\");\n",
    "\n",
    "        //     int GradePoint = GradePointScanner.nextInt();  // Read user input\n",
    "        //     if (GradePoint == 9){\n",
    "        //         TakingInputs = false;\n",
    "        //     }\n",
    "        //     else{\n",
    "        //         GradePointTotal += GradePoint;\n",
    "        //         NumberOfClasses += 1;\n",
    "        //     }\n",
    "        // }\n",
    "        int NumberOfClasses = 5;\n",
    "        // integers are an appropriate measure of the number of classes someone is taking because people can't take part of a class\n",
    "        int[] Grades = {1, 2, 3, 3, 4};\n",
    "        // integers are an appropriate measure of grade points as all grades have a corresponding integer value\n",
    "        for(int i=0; i < NumberOfClasses; i++){\n",
    "            GradePointTotal += Grades[i];\n",
    "            System.out.println(\"Grade: \" + Grades[i]);\n",
    "        }\n",
    "        double GradePointAverage = (double) GradePointTotal / NumberOfClasses;\n",
    "        String GPAString = \"Grade Point Total: \" + GradePointTotal;\n",
    "        System.out.println(GPAString);\n",
    "        System.out.println(\"Number of Classes: \" + NumberOfClasses);\n",
    "        // integers are casted to a double as GPA can have decimal points\n",
    "        System.out.println(\"Grade Point Average: \" + GradePointAverage);\n",
    "        // desired results are printed\n",
    "    }\n",
    "  }\n",
    "  Primitives.main(null)"
   ]
  }
 ],
 "metadata": {
  "kernelspec": {
   "display_name": "Java",
   "language": "java",
   "name": "java"
  },
  "language_info": {
   "codemirror_mode": "java",
   "file_extension": ".jshell",
   "mimetype": "text/x-java-source",
   "name": "java",
   "pygments_lexer": "java",
   "version": "17.0.4+8"
  },
  "orig_nbformat": 4,
  "vscode": {
   "interpreter": {
    "hash": "9183a533545d0b65b81c3395c708e1f9395188a8f9d11da77e00daa9d2dfddea"
   }
  }
 },
 "nbformat": 4,
 "nbformat_minor": 2
}
