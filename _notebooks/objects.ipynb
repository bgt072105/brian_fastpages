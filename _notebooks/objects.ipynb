{
 "cells": [
  {
   "cell_type": "markdown",
   "metadata": {},
   "source": [
    "# Objects Notebook\n",
    "> A Jupyter Notebook using Objects.\n",
    "\n"
   ]
  },
  {
   "cell_type": "markdown",
   "metadata": {},
   "source": [
    "# Console Based Menu\n",
    "\n",
    "Objects Used:\n",
    "\n",
    "* Used scanner class to get user input and make objects\n",
    "* Used system class to print out static methods-\n",
    "* Used math class with exact value to find average\n",
    "\n",
    "PBL Takeaways:\n",
    "\n",
    "The menu allows the user to interact with the system however they want. The menu connects to the frontend because it reflects the interface that a user would be interacting with. The user makes inputs that then cause the menu to produce a specified output that is determined based on the given input."
   ]
  },
  {
   "cell_type": "code",
   "execution_count": 4,
   "metadata": {
    "vscode": {
     "languageId": "java"
    }
   },
   "outputs": [
    {
     "name": "stdout",
     "output_type": "stream",
     "text": [
      "-------------------------\n",
      "\n",
      "Choose from these choices\n",
      "-------------------------\n",
      "\n",
      "1 - Say Hello\n",
      "2 - Output colors\n",
      "3 - Loading in color\n",
      "4 - Mean\n",
      "0 - Quit\n",
      "-------------------------\n",
      "\n",
      "1: Hello, World!\u001b[0m\n",
      "2: \u001b[0mDefault\u001b[31mRed\u001b[32mGreen\u001b[33mYellow\u001b[34mBlue\u001b[35mPurple\u001b[36mCyan\u001b[37mWhite\u001b[0m\n",
      "3: Loading...\u001b[32m#\u001b[34m#\u001b[32m#\u001b[35m#\u001b[36m#\u001b[37m#\u001b[35m#\u001b[36m#\u001b[32m#\u001b[34m#\u001b[35m#\u001b[31m#\u001b[32m#\u001b[36m#\u001b[36m#\u001b[33m#\u001b[32m#\u001b[34m#\u001b[35m#\u001b[37m#\u001b[0m\n",
      "4: Enter a number: \n",
      "Enter another number: \n",
      "Enter one last number: \n",
      "Mean: 5.333333333333333\n",
      "Unexpected choice, try again.\u001b[0m\n",
      "0: Goodbye, World!\u001b[0m\n"
     ]
    }
   ],
   "source": [
    "// imports allow you to use code already written by others.  It is good to explore and learn libraries.  The names around the dots often give you a hint to the originator of the code.\n",
    "import java.util.Scanner; //library for user input\n",
    "import java.lang.Math; //library for random numbers\n",
    "\n",
    "\n",
    "public class Menu {\n",
    "    // Instance Variables\n",
    "    public final String DEFAULT = \"\\u001B[0m\";  // Default Terminal Color\n",
    "    public final String[][] COLORS = { // 2D Array of ANSI Terminal Colors\n",
    "        {\"Default\",DEFAULT},\n",
    "        {\"Red\", \"\\u001B[31m\"}, \n",
    "        {\"Green\", \"\\u001B[32m\"}, \n",
    "        {\"Yellow\", \"\\u001B[33m\"}, \n",
    "        {\"Blue\", \"\\u001B[34m\"}, \n",
    "        {\"Purple\", \"\\u001B[35m\"}, \n",
    "        {\"Cyan\", \"\\u001B[36m\"}, \n",
    "        {\"White\", \"\\u001B[37m\"}, \n",
    "    };\n",
    "    // 2D column location for data\n",
    "    public final int NAME = 0;\n",
    "    public final int ANSI = 1;  // ANSI is the \"standard\" for terminal codes\n",
    "\n",
    "    // Constructor on this Object takes control of menu events and actions\n",
    "    public Menu() {\n",
    "        Scanner sc = new Scanner(System.in);  // using Java Scanner Object\n",
    "        \n",
    "        this.print();  // print Menu\n",
    "        boolean quit = false;\n",
    "        while (!quit) {\n",
    "            try {  // scan for Input\n",
    "                int choice = sc.nextInt();  // using method from Java Scanner Object\n",
    "                System.out.print(\"\" + choice + \": \");\n",
    "                quit = this.action(choice);  // take action\n",
    "            } catch (Exception e) {\n",
    "                sc.nextLine(); // error: clear buffer\n",
    "                System.out.println(e + \": Not a number, try again.\");\n",
    "            }\n",
    "        }\n",
    "        sc.close();\n",
    "    }\n",
    "\n",
    "    // Print the menu options to Terminal\n",
    "    private void print() {\n",
    "        //System.out.println commands below is used to present a Menu to the user. \n",
    "        System.out.println(\"-------------------------\\n\");\n",
    "        System.out.println(\"Choose from these choices\");\n",
    "        System.out.println(\"-------------------------\\n\");\n",
    "        System.out.println(\"1 - Say Hello\");\n",
    "        System.out.println(\"2 - Output colors\");\n",
    "        System.out.println(\"3 - Loading in color\");\n",
    "        System.out.println(\"4 - Mean\");\n",
    "        System.out.println(\"0 - Quit\");\n",
    "        System.out.println(\"-------------------------\\n\");\n",
    "    }\n",
    "\n",
    "    // Private method to perform action and return true if action is to quit/exit\n",
    "    private boolean action(int selection) {\n",
    "        boolean quit = false;\n",
    "\n",
    "        switch (selection) {  // Switch or Switch/Case is Control Flow statement and is used to evaluate the user selection\n",
    "            case 0:  \n",
    "                System.out.print(\"Goodbye, World!\");\n",
    "                quit = true;\n",
    "                break;\n",
    "            case 1:\n",
    "                System.out.print(\"Hello, World!\");\n",
    "                break;\n",
    "            case 2:\n",
    "                for(int i = 0; i < COLORS.length; i++)  // loop through COLORS array\n",
    "                    System.out.print(COLORS[i][ANSI] + COLORS[i][NAME]);\n",
    "                break;\n",
    "            case 3:\n",
    "                System.out.print(\"Loading...\");\n",
    "                for (int i = 0; i < 20; i++) {  // fixed length loading bar\n",
    "                    int random = (int) (Math.random() * COLORS.length);  // random logic\n",
    "                    try {\n",
    "                        Thread.sleep(100);  // delay for loading\n",
    "                    } catch (Exception e) {\n",
    "                        System.out.println(e);\n",
    "                    }\n",
    "                    System.out.print(COLORS[random][ANSI] + \"#\");\n",
    "                }\n",
    "                break;\n",
    "            \n",
    "            case 4:\n",
    "                Scanner input = new Scanner(System.in);\n",
    "                System.out.println(\"Enter a number: \");\n",
    "                int a = input.nextInt();\n",
    "                System.out.println(\"Enter another number: \");\n",
    "                Scanner input2 = new Scanner(System.in);\n",
    "                int b = input2.nextInt();\n",
    "                System.out.println(\"Enter one last number: \");\n",
    "                Scanner input3 = new Scanner(System.in);\n",
    "                int c = input3.nextInt();\n",
    "                int sumOfFirstTwo = Math.addExact(a, b);\n",
    "                int totalSum = Math.addExact(sumOfFirstTwo, c);\n",
    "                double average = (double) totalSum/3;\n",
    "                System.out.println(\"Mean: \" + average);\n",
    "                \n",
    "            default:\n",
    "                //Prints error message from console\n",
    "                System.out.print(\"Unexpected choice, try again.\");\n",
    "        }\n",
    "        System.out.println(DEFAULT);  // make sure to reset color and provide new line\n",
    "        return quit;\n",
    "    }\n",
    "\n",
    "    // Static driver/tester method\n",
    "    static public void main(String[] args)  {  \n",
    "        new Menu(); // starting Menu object\n",
    "    }\n",
    "\n",
    "}\n",
    "Menu.main(null);"
   ]
  },
  {
   "cell_type": "markdown",
   "metadata": {},
   "source": [
    "# Desktop GUI Menu\n",
    "\n",
    "See Hetvi and I's GUI Console that we put together: https://bgt072105.github.io/CSA-tri1-teamrepo/2022/09/05/GUImenu.html\n",
    "\n",
    "Objects Used:\n",
    "\n",
    "* Used the if else, if else structure that allows text to show up based on what the user selects\n",
    "* Scanner class\n",
    "* Static variable since GUI doesn't allow inputs\n",
    "\n",
    "PBL Learnings:\n",
    "\n",
    "* Graphical User Interface allows for the user to click and navigate through the console based on what they want to see\n",
    "* More faster and easier to understand\n",
    "* More visual for the user compared to Console"
   ]
  },
  {
   "cell_type": "markdown",
   "metadata": {},
   "source": [
    "# Hacks\n",
    "\n",
    "Explain where a Class is defined.\n",
    "\n",
    "A class is defined whenever you need to add variables, objects or methods to your code"
   ]
  },
  {
   "cell_type": "code",
   "execution_count": null,
   "metadata": {
    "vscode": {
     "languageId": "java"
    }
   },
   "outputs": [],
   "source": [
    "// class definition\n",
    "public class Menu"
   ]
  },
  {
   "cell_type": "markdown",
   "metadata": {},
   "source": [
    "Explain where an instance of a Class is defined.\n",
    "\n",
    "An instance of a class is defined when you have an object. Here is an instance where a new menu is created and allows for the user to select different options to input values for."
   ]
  },
  {
   "cell_type": "code",
   "execution_count": null,
   "metadata": {
    "vscode": {
     "languageId": "java"
    }
   },
   "outputs": [],
   "source": [
    "// new instance of class (object)\n",
    "new Menu();"
   ]
  },
  {
   "cell_type": "markdown",
   "metadata": {},
   "source": [
    "Explain where an object is Calling a Method\n",
    "\n",
    "In this case, the math object is calling the addExact method in order to add inputs together in order to find a sum."
   ]
  },
  {
   "cell_type": "code",
   "execution_count": null,
   "metadata": {
    "vscode": {
     "languageId": "java"
    }
   },
   "outputs": [],
   "source": [
    "int sumOfFirstTwo = Math.addExact(a, b);"
   ]
  },
  {
   "cell_type": "markdown",
   "metadata": {},
   "source": [
    "Explain where an object is Mutating data\n",
    "\n",
    "The object math is taking data and adding it together in order to produce a sum."
   ]
  },
  {
   "cell_type": "code",
   "execution_count": null,
   "metadata": {
    "vscode": {
     "languageId": "java"
    }
   },
   "outputs": [],
   "source": [
    "int totalSum = Math.addExact(sumOfFirstTwo, c)"
   ]
  },
  {
   "cell_type": "markdown",
   "metadata": {},
   "source": [
    "Describe Console, GUI differences, or Code.org differences.\n",
    "\n",
    "Console:\n",
    "\n",
    "* User enters inputs and receive corresponding outputs\n",
    "* Not as visual as other platforms\n",
    "* Requires solid understanding of script and syntax\n",
    "\n",
    "GUI:\n",
    "\n",
    "* More clickable and interactive for the user\n",
    "* The platform is very user-friendly\n",
    "* Visual feedback and display\n",
    "* It isn't really possible to perform multiple tasks at once\n",
    "* Allows people to access another computer/platform remotely\n",
    "\n",
    "Code.org:\n",
    "\n",
    "* Uses the painter as a visual object to help the user what the code is doing\n",
    "* File and public class \" name \" should be same\n",
    "* Public class was My Neighborhood same as what the file was named\n",
    "* Calling a method is done through \"variableName.methodName();\n",
    "* More basic platform, good for allowing people to learn"
   ]
  }
 ],
 "metadata": {
  "kernelspec": {
   "display_name": "Java",
   "language": "java",
   "name": "java"
  },
  "language_info": {
   "codemirror_mode": "java",
   "file_extension": ".jshell",
   "mimetype": "text/x-java-source",
   "name": "Java",
   "pygments_lexer": "java",
   "version": "17.0.4+8"
  },
  "varInspector": {
   "cols": {
    "lenName": 16,
    "lenType": 16,
    "lenVar": 40
   },
   "kernels_config": {
    "python": {
     "delete_cmd_postfix": "",
     "delete_cmd_prefix": "del ",
     "library": "var_list.py",
     "varRefreshCmd": "print(var_dic_list())"
    },
    "r": {
     "delete_cmd_postfix": ") ",
     "delete_cmd_prefix": "rm(",
     "library": "var_list.r",
     "varRefreshCmd": "cat(var_dic_list()) "
    }
   },
   "types_to_exclude": [
    "module",
    "function",
    "builtin_function_or_method",
    "instance",
    "_Feature"
   ],
   "window_display": false
  },
  "vscode": {
   "interpreter": {
    "hash": "b0fa6594d8f4cbf19f97940f81e996739fb7646882a419484c72d19e05852a7e"
   }
  }
 },
 "nbformat": 4,
 "nbformat_minor": 4
}
