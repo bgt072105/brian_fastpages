{
 "cells": [
  {
   "cell_type": "markdown",
   "metadata": {},
   "source": [
    "# Objects Notebook\n",
    "> Jupyter Notebook for learning about objects\n",
    "\n"
   ]
  },
  {
   "cell_type": "code",
   "execution_count": 1,
   "metadata": {
    "vscode": {
     "languageId": "java"
    }
   },
   "outputs": [
    {
     "ename": "",
     "evalue": "",
     "output_type": "error",
     "traceback": [
      "The Kernel crashed while executing code in the the current cell or a previous cell. Please review the code in the cell(s) to identify a possible cause of the failure. Click <a href='https://aka.ms/vscodeJupyterKernelCrash'>here</a> for more info. View Jupyter <a href='command:jupyter.viewOutput'>log</a> for further details."
     ]
    }
   ],
   "source": [
    "import java.awt.*;\n",
    "import java.awt.event.*;\n",
    "import javax.swing.*;\n",
    "import java.util.Timer;\n",
    "import java.util.TimerTask;\n",
    "// Graphical-User-Interface for Desktop in Java using Java Swing. \n",
    "public class MenuJFrame extends JFrame implements ActionListener {\n",
    "    private JFrame frame;\n",
    "    private JMenuBar menubar;\n",
    "    private JMenu menu;\n",
    "    private JLabel message = new JLabel(\"Click on Menu to select an action.\");\n",
    "    public final String[] MENUS = { // 1D Array of Menu Choices\n",
    "        \"Hello\", \"Colors\", \"Loading bar\",  \n",
    "    };\n",
    "    // Statics to assist with timer and messaging, single copy (no instance)\n",
    "    private\tstatic int delay = 20;\n",
    "    private\tstatic int step = 1;\n",
    "    private static String hashes = \"\";\n",
    "\n",
    "    // Constructor enables the Frame instance, the object \"this.frame\"\n",
    "    public MenuJFrame(String title) {\n",
    "\t    // Initializing Key Objects\n",
    "        frame = new JFrame(title);\n",
    "\t    menubar = new JMenuBar();\n",
    "\t    menu = new JMenu(\"Menu\");\n",
    "\n",
    "        // Initializing Menu objects and adding actions\n",
    "        for (String mx : MENUS) {\n",
    "            JMenuItem m = new JMenuItem(mx);\n",
    "            m.addActionListener(this);\n",
    "            menu.add(m); \n",
    "        }\n",
    "\n",
    "        // Adding / Connecting Objects\n",
    "        menubar.add(menu);\n",
    "        frame.setJMenuBar(menubar);\n",
    "        frame.add(message);\n",
    "\n",
    "        // Sets JFrame close operation to Class variable JFrame.EXIT_ON_CLOSE\n",
    "        frame.setDefaultCloseOperation(JFrame.EXIT_ON_CLOSE);\n",
    "        \n",
    "        // set the size of window based on objects\n",
    "        frame.setSize(300,200);\n",
    "\n",
    "        // makes the frame object visible according to properties previously set\n",
    "        frame.setVisible(true);  // flow of control shifts to frame object\n",
    "    }\n",
    "\n",
    "    // event from user selecting a menu option\n",
    "    public void actionPerformed(ActionEvent e) {\n",
    "        // local variable to ActinEvent\n",
    "        String selection = e.getActionCommand();  // menu selection\n",
    "        String msg; // local variable to create response from action\n",
    "        final String[] COLORS = {\"Red\", \"Green\", \"Blue\"};  // add more colors here\n",
    " \t    final String start_msg = \"<html>\";  // html building\n",
    "       \tfinal String end_msg = \"</html>\";\n",
    "       \tfinal String hash = \"#\";\n",
    "\n",
    "        // run code based on the menuItem that was selected\n",
    "        if ( selection.equals(MENUS[0]) ) {  // Hello Action\n",
    "            msg = \"Hello, World\";\n",
    "            message.setText(msg);\n",
    "        } else if ( selection.equals(MENUS[1]) ) { // Color Action\n",
    "            msg = start_msg + \"<p>\" + selection + \"</p>\";\n",
    "            for (String color : COLORS) {\n",
    "                msg += \"<font color=\" + color + \">\" + color + \" </font>\";\n",
    "            }\n",
    "            msg += end_msg;\n",
    "            message.setText(msg);\n",
    "        } else {  // Loading Bar Action\n",
    "\t    String loading = \"<p>Loading</p>\";\n",
    "            // Code to run on a Timer\n",
    "            Timer timer = new Timer();\n",
    "            TimerTask task = new TimerTask() {\n",
    "                public void run() {  // Method for TimerTask\n",
    "                    // Static and Local variables used to manage message building\n",
    "                    int random = (int) (Math.random() * COLORS.length);  // random logic\n",
    "                    MenuJFrame.hashes +=  \"<font color=\" + COLORS[random] + \">\" + hash + \"</font>\";\n",
    "                    String msg = start_msg + loading + hashes + end_msg;\n",
    "                    message.setText(msg);\n",
    "                    \n",
    "\t  \t            // Shutdown timer and reset data\n",
    "                    if(MenuJFrame.step++ > MenuJFrame.delay) {\n",
    "                        MenuJFrame.step = 1; MenuJFrame.hashes=\"\";\n",
    "                        timer.cancel();\n",
    "                    }\n",
    "                };\n",
    "            };\n",
    "            // Schedule task and interval\n",
    "            timer.schedule(task, 200, 200);\n",
    "            message.setText(start_msg + loading + hash + end_msg);  // prime/initial display\n",
    "        }\n",
    "    }\n",
    "\n",
    "    // Driver turn over control the GUI\n",
    "    public static void main(String[] args) {\n",
    "        // Activates an instance of MenuJFrame class, which makes a JFrame object\n",
    "        new MenuJFrame(\"Menu\");\n",
    "    }\n",
    "}\n",
    "MenuJFrame.main(null);"
   ]
  }
 ],
 "metadata": {
  "kernelspec": {
   "display_name": "Java",
   "language": "java",
   "name": "java"
  },
  "language_info": {
   "codemirror_mode": "java",
   "file_extension": ".jshell",
   "mimetype": "text/x-java-source",
   "name": "Java",
   "pygments_lexer": "java",
   "version": "17.0.4+8"
  },
  "orig_nbformat": 4,
  "vscode": {
   "interpreter": {
    "hash": "9183a533545d0b65b81c3395c708e1f9395188a8f9d11da77e00daa9d2dfddea"
   }
  }
 },
 "nbformat": 4,
 "nbformat_minor": 2
}
