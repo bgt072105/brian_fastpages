{
 "cells": [
  {
   "cell_type": "markdown",
   "metadata": {},
   "source": [
    "# Unit 1-5 HW and Vocab\n",
    "> Jupyter Notebook containing my learnings for Units 1 through 5\n",
    "\n"
   ]
  },
  {
   "cell_type": "markdown",
   "metadata": {},
   "source": [
    "| Unit | Score  |\n",
    "| ---- | -----  |\n",
    "|   1  | 0.9/1  |\n",
    "|   2  | 0.95/1 |\n",
    "|   3  | /1 |\n",
    "|   4  | 0.8/1 |\n",
    "|   5  | /1 |"
   ]
  },
  {
   "cell_type": "markdown",
   "metadata": {},
   "source": [
    "# Unit 1:\n",
    "\n",
    "[Unit 1 Blog](https://bgt072105.github.io/super-barnacle/2022/11/30/primitivetypeslesson.html)"
   ]
  },
  {
   "cell_type": "markdown",
   "metadata": {},
   "source": [
    "# Unit 2:\n",
    "\n",
    "[Unit 2 Blog](https://bgt072105.github.io/super-barnacle/2022/11/30/objectslesson.html)"
   ]
  },
  {
   "cell_type": "markdown",
   "metadata": {},
   "source": [
    "# Unit 3:\n",
    "\n",
    "[Unit 3 Blog](https://bgt072105.github.io/super-barnacle/2022/11/30/booleanexpressionslesson.html)"
   ]
  },
  {
   "cell_type": "markdown",
   "metadata": {},
   "source": [
    "# Unit 4:\n",
    "\n",
    "[Unit 4 Blog](https://bgt072105.github.io/super-barnacle/2022/11/30/iterationlesson.html)"
   ]
  },
  {
   "cell_type": "markdown",
   "metadata": {},
   "source": [
    "# Unit 5:\n",
    "\n",
    "[Unit 5 Blog](https://bgt072105.github.io/super-barnacle/2022/11/30/writingclasseslesson.html)"
   ]
  }
 ],
 "metadata": {
  "kernelspec": {
   "display_name": "Java",
   "language": "java",
   "name": "java"
  },
  "language_info": {
   "codemirror_mode": "java",
   "file_extension": ".jshell",
   "mimetype": "text/x-java-source",
   "name": "java",
   "pygments_lexer": "java",
   "version": "17.0.4+8"
  },
  "orig_nbformat": 4,
  "vscode": {
   "interpreter": {
    "hash": "9183a533545d0b65b81c3395c708e1f9395188a8f9d11da77e00daa9d2dfddea"
   }
  }
 },
 "nbformat": 4,
 "nbformat_minor": 2
}
