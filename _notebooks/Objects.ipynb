# Using Java Objects
> This post is about learning the relationship between a Class and an Object.  A Class is a template for an Object and an Object is an instances of a Class. 

- title: Using Objects
- toc: true
- categories: [units]
- permalink: /unit/2
- image: /images/using_java_objects.png
## Console Based Menu
Java imports allow user input and console output to be displayed in Terminal 

Objects Used
- Makes Object from Scanner Class to obtain inputs / menu selection from User
- Use System Class, to call static methods System.out.print and System.out.println to output to console
- User Math Class, to call static method Math.random() to generate random number

Other College Board Topics
- A 2D array is used to store COLORS
- A Control Structure, Switch, is used to process Menu select to code that performs related action

Key PBL Topic
- Menu class when instantiated with new Menu() takes over Frontend experience with user.  This is relevant to Draw Lab in this article and how Spring Boot works in Web programming.  Objects are intended to encapsulate Frontend, Backend or experience ...  Web Site control flow, Database CRUD operations, or a Menu in terminal (this example)   
// imports allow you to use code already written by others.  It is good to explore and learn libraries.  The names around the dots often give you a hint to the originator of the code.
import java.util.Scanner; //library for user input
import java.lang.Math; //library for random numbers


public class Menu {
    // Instance Variables
    public final String DEFAULT = "\u001B[0m";  // Default Terminal Color
    public final String[][] COLORS = { // 2D Array of ANSI Terminal Colors
        {"Default",DEFAULT},
        {"Red", "\u001B[31m"}, 
        {"Green", "\u001B[32m"}, 
        {"Yellow", "\u001B[33m"}, 
        {"Blue", "\u001B[34m"}, 
        {"Purple", "\u001B[35m"}, 
        {"Cyan", "\u001B[36m"}, 
        {"White", "\u001B[37m"}, 
    };
    // 2D column location for data
    public final int NAME = 0;
    public final int ANSI = 1;  // ANSI is the "standard" for terminal codes

    // Constructor on this Object takes control of menu events and actions
    public Menu() {
        Scanner sc = new Scanner(System.in);  // using Java Scanner Object
        
        this.print();  // print Menu
        boolean quit = false;
        while (!quit) {
            try {  // scan for Input
                int choice = sc.nextInt();  // using method from Java Scanner Object
                System.out.print("" + choice + ": ");
                quit = this.action(choice);  // take action
            } catch (Exception e) {
                sc.nextLine(); // error: clear buffer
                System.out.println(e + ": Not a number, try again.");
            }
        }
        sc.close();
    }

    // Print the menu options to Terminal
    private void print() {
        //System.out.println commands below is used to present a Menu to the user. 
        System.out.println("-------------------------\n");
        System.out.println("Choose from these choices");
        System.out.println("-------------------------\n");
        System.out.println("1 - Say Hello");
        System.out.println("2 - Output colors");
        System.out.println("3 - Loading in color");
        System.out.println("4 - Mean");
        System.out.println("5 - Mode");
        System.out.println("0 - Quit");
        System.out.println("-------------------------\n");
    }

    // Private method to perform action and return true if action is to quit/exit
    private boolean action(int selection) {
        boolean quit = false;

        switch (selection) {  // Switch or Switch/Case is Control Flow statement and is used to evaluate the user selection
            case 0:  
                System.out.print("Goodbye, World!");
                quit = true;
                break;
            case 1:
                System.out.print("Hello, World!");
                break;
            case 2:
                for(int i = 0; i < COLORS.length; i++)  // loop through COLORS array
                    System.out.print(COLORS[i][ANSI] + COLORS[i][NAME]);
                break;
            case 3:
                System.out.print("Loading...");
                for (int i = 0; i < 20; i++) {  // fixed length loading bar
                    int random = (int) (Math.random() * COLORS.length);  // random logic
                    try {
                        Thread.sleep(100);  // delay for loading
                    } catch (Exception e) {
                        System.out.println(e);
                    }
                    System.out.print(COLORS[random][ANSI] + "#");
                }
                break;
            
            case 4:
                Scanner input = new Scanner(System.in);
                System.out.println("Enter a number: ");
                int a = input.nextInt();
                System.out.println("Enter another number: ");
                Scanner input2 = new Scanner(System.in);
                int b = input2.nextInt();
                System.out.println("Enter one last number: ");
                Scanner input3 = new Scanner(System.in);
                int c = input3.nextInt();
                double average = (double) (a+b+c)/3;
                System.out.println("Mean: " + average);

            case 5:
                
                    
            default:
                //Prints error message from console
                System.out.print("Unexpected choice, try again.");
        }
        System.out.println(DEFAULT);  // make sure to reset color and provide new line
        return quit;
    }

    // Static driver/tester method
    static public void main(String[] args)  {  
        new Menu(); // starting Menu object
    }

}
Menu.main(null);
