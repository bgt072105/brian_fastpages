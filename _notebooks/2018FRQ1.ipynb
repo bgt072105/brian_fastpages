{
 "cells": [
  {
   "cell_type": "markdown",
   "metadata": {},
   "source": [
    "# 2018 FRQ Q1\n",
    "> Question 1 from the 2018 APCSA exam FRQs\n",
    "\n"
   ]
  },
  {
   "cell_type": "code",
   "execution_count": 1,
   "metadata": {
    "vscode": {
     "languageId": "java"
    }
   },
   "outputs": [
    {
     "ename": "",
     "evalue": "",
     "output_type": "error",
     "traceback": [
      "The Kernel crashed while executing code in the the current cell or a previous cell. Please review the code in the cell(s) to identify a possible cause of the failure. Click <a href='https://aka.ms/vscodeJupyterKernelCrash'>here</a> for more info. View Jupyter <a href='command:jupyter.viewOutput'>log</a> for further details."
     ]
    }
   ],
   "source": [
    "public class FrogSimulation\n",
    "{\n",
    "    /** Distance, in inches, from the starting position to the goal. */\n",
    "    private int goalDistance;\n",
    "    /** Maximum number of hops allowed to reach the goal. */\n",
    "    private int maxHops;\n",
    "    /** Constructs a FrogSimulation where dist is the distance, in inches, from the starting\n",
    "    * position to the goal, and numHops is the maximum number of hops allowed to reach the goal.\n",
    "    * Precondition: dist > 0; numHops > 0\n",
    "    */\n",
    "    public FrogSimulation(int dist, int numHops)\n",
    "{\n",
    "    goalDistance = dist;\n",
    "    maxHops = numHops;\n",
    "}\n",
    "    /** Returns an integer representing the distance, in inches, to be moved when the frog hops.\n",
    "     */\n",
    "    private int hopDistance()\n",
    "    { /* implementation not shown */ }\n",
    "    /** Simulates a frog attempting to reach the goal as described in part (a).\n",
    "    *  Returns true if the frog successfully reached or passed the goal during the simulation;\n",
    "    * false otherwise.\n",
    "    */\n",
    "    public boolean simulate()\n",
    "    { /* to be implemented in part (a) */ }\n",
    "    /** Runs num simulations and returns the proportion of simulations in which the frog\n",
    "    * successfully reached or passed the goal.\n",
    "    * Precondition: num > 0\n",
    "    */\n",
    "    public double runSimulations(int num)\n",
    "    { /* to be implemented in part (b) */ }\n",
    "}"
   ]
  },
  {
   "cell_type": "markdown",
   "metadata": {},
   "source": [
    "# Part A\n",
    "\n",
    "Write the simulate method, which simulates the frog attempting to hop in a straight line to a goal from the frog's starting position of 0 within a maximum number of hops. The method returns true if the frog successfully reached the goal within the maximum number of hops; otherwise, the method returns false."
   ]
  },
  {
   "cell_type": "code",
   "execution_count": null,
   "metadata": {
    "vscode": {
     "languageId": "java"
    }
   },
   "outputs": [],
   "source": [
    "public boolean stimulate()\n",
    "{\n",
    "   int position = 0; // the initial position of frog\n",
    "   boolean passedGoal = false; // boolean that tells us whether the frog has passed the goal or not\n",
    "   int numHops = 0 // how many hops the frog has taken represented in an integer\n",
    "\n",
    "   while(!passedGoal && position >= 0 && numHops < maxHops) // De Morgan's law\n",
    "   {\n",
    "    position += hopDistance(); // will get our integer and see how far of a position it is\n",
    "    if(position >= goalDistance)\n",
    "    {\n",
    "        passedGoal = true; // when while loop is done, the loop will be exited\n",
    "    }\n",
    "    numHops++; // increments the hops until number of hoops increases max hops\n",
    "   }\n",
    "   return passedGoal; // tells us whether frog has passed the goal or not\n",
    "}"
   ]
  },
  {
   "cell_type": "markdown",
   "metadata": {},
   "source": [
    "# Part B\n",
    "\n",
    "Write the runSimulations method, which performs a given number of simulations and returns the proportion of simulations in which the frog successfully reached or passed the goal. For example, if the parameter passed to runSimulations is 400, and 100 of the 400 simulate method calls returned true, then the runSimulations method should return 0.25. Complete method runSimulations below. Assume that simulate works as specified, regardless of what you wrote in part (a). You must use simulate appropriately to receive full credit."
   ]
  },
  {
   "cell_type": "code",
   "execution_count": null,
   "metadata": {
    "vscode": {
     "languageId": "java"
    }
   },
   "outputs": [],
   "source": [
    "public double runSimulation(int num) // int is the number of times we want to run the loop\n",
    "{\n",
    "    int count = 0;\n",
    "    for (int i = 0; i < num; i++){ \n",
    "        if (simulate()){\n",
    "            count++; // if it's successful, the hops will increase by 1\n",
    "        }\n",
    "    }\n",
    "    return (double) count / num; // gives a proportion of successes\n",
    "}"
   ]
  }
 ],
 "metadata": {
  "kernelspec": {
   "display_name": "Java",
   "language": "java",
   "name": "java"
  },
  "language_info": {
   "codemirror_mode": "java",
   "file_extension": ".jshell",
   "mimetype": "text/x-java-source",
   "name": "Java",
   "pygments_lexer": "java",
   "version": "17.0.4+8"
  },
  "orig_nbformat": 4,
  "vscode": {
   "interpreter": {
    "hash": "9183a533545d0b65b81c3395c708e1f9395188a8f9d11da77e00daa9d2dfddea"
   }
  }
 },
 "nbformat": 4,
 "nbformat_minor": 2
}
