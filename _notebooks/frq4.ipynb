{
 "cells": [
  {
   "cell_type": "markdown",
   "metadata": {},
   "source": [
    "# 2019 FRQ 4"
   ]
  },
  {
   "cell_type": "markdown",
   "metadata": {},
   "source": [
    "### Part A:\n",
    "\n",
    "Write the constructor for the LightBoard class, which initializes lights so that each light is set to on with a 40% probability. The notation lights[r][c] represents the array element at row r and column c.\n",
    "\n",
    "The first line instantiates and sizes lights to numRows rows and numCols columns. The code then iterates through each cell in the matrix and uses Math.random to meet the 40% probability requirement."
   ]
  },
  {
   "cell_type": "code",
   "execution_count": null,
   "metadata": {},
   "outputs": [],
   "source": [
    "public LightBoard(int numRows, int numCols) {\n",
    "    lights = new boolean[numRows][numCols];\n",
    "    for (int r = 0; r < numRows; r++) {\n",
    "        for (int c = 0; c < numCols; c++) {\n",
    "            double rnd = Math.random();\n",
    "            lights[r][c] = rnd < 0.4;\n",
    "        }\n",
    "    }\n",
    "}"
   ]
  },
  {
   "cell_type": "markdown",
   "metadata": {},
   "source": [
    "### Part B:\n",
    "\n",
    "Write the method evaluateLight, which computes and returns the status of a light at a given row and column based on the following rules.\n",
    "\n",
    "The variable OnCount is used to keep track of the number of lights that are on in each column."
   ]
  },
  {
   "cell_type": "code",
   "execution_count": 2,
   "metadata": {},
   "outputs": [],
   "source": [
    "public boolean evaluateLight(int row, int col) {\n",
    "    int OnCount = 0;\n",
    "    for (int r = 0; r < lights.length; r++) {\n",
    "        if (lights[r][col]) {\n",
    "             OnCount++;\n",
    "        }\n",
    "    }\n",
    "    if (lights[row][col] && OnCount % 2 == 0) {\n",
    "        return false;\n",
    "    }\n",
    "    if (!lights[row][col] && onCount % 3 == 0) {\n",
    "        return true;\n",
    "    }\n",
    "    return lights[row][col];\n",
    "}"
   ]
  }
 ],
 "metadata": {
  "kernelspec": {
   "display_name": "Java",
   "language": "java",
   "name": "java"
  },
  "language_info": {
   "codemirror_mode": "java",
   "file_extension": ".jshell",
   "mimetype": "text/x-java-source",
   "name": "java",
   "pygments_lexer": "java",
   "version": "17.0.4+8"
  },
  "orig_nbformat": 4
 },
 "nbformat": 4,
 "nbformat_minor": 2
}
