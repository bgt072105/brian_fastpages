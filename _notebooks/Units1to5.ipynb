{
 "cells": [
  {
   "cell_type": "markdown",
   "metadata": {},
   "source": [
    "# Unit 1-5 HW and Vocab\n",
    "> Jupyter Notebook containing my learnings for Units 1 through 5\n",
    "\n"
   ]
  },
  {
   "cell_type": "markdown",
   "metadata": {},
   "source": [
    "| Unit | Score  |\n",
    "| ---- | -----  |\n",
    "|   1  | 0.9/1  |\n",
    "|   2  | 0.95/1 |\n",
    "|   3  | 0.9 /1 |\n",
    "|   4  | 0.8/1 |\n",
    "|   5  | 0.9/1 |\n",
    "| Total Score | 4.45/5 |"
   ]
  },
  {
   "cell_type": "markdown",
   "metadata": {},
   "source": [
    "# Unit 1:\n",
    "\n",
    "[Unit 1 Blog](https://bgt072105.github.io/super-barnacle/2022/11/30/primitivetypeslesson.html)\n",
    "\n",
    "### Casting for Division\n",
    "When you divide a double by a double the output is not always a double and when you divide an integer by an integer the output is not always an integer. Casting can be used in the dominator to fix this."
   ]
  },
  {
   "cell_type": "code",
   "execution_count": 2,
   "metadata": {
    "vscode": {
     "languageId": "java"
    }
   },
   "outputs": [
    {
     "name": "stdout",
     "output_type": "stream",
     "text": [
      "1\n",
      "1.5\n"
     ]
    }
   ],
   "source": [
    "int x = 3/2;\n",
    "System.out.println(x);\n",
    "\n",
    "// vs casting with double\n",
    "double y = 3/(double)2;\n",
    "System.out.println(y);"
   ]
  },
  {
   "cell_type": "markdown",
   "metadata": {},
   "source": [
    "### Casting for Truncating or Rounding\n",
    "Double values can be rounded to the nearest integer by casting (int)"
   ]
  },
  {
   "cell_type": "code",
   "execution_count": 3,
   "metadata": {
    "vscode": {
     "languageId": "java"
    }
   },
   "outputs": [
    {
     "name": "stdout",
     "output_type": "stream",
     "text": [
      "4.0/3 = 1.3333333333333333\n",
      "4/3 truncated: 1\n",
      "4.0/3 rounded to nearest int: 1\n"
     ]
    }
   ],
   "source": [
    "double x = 4.0 / 3;\n",
    "int rounded = (int)(x + 0.5);\n",
    "System.out.println(\"4.0/3 = \" + x);\n",
    "System.out.println(\"4/3 truncated: \" + (int)x );\n",
    "System.out.println(\"4.0/3 rounded to nearest int: \" + rounded);"
   ]
  },
  {
   "cell_type": "markdown",
   "metadata": {},
   "source": [
    "# Unit 2:\n",
    "\n",
    "[Unit 2 Blog](https://bgt072105.github.io/super-barnacle/2022/11/30/objectslesson.html)\n",
    "\n",
    "### Wrapper Classes, why wrap int, double. Show examples\n",
    "A wrapper is a class whose object contains primitive data types. Wrapper classes allow us to wrap a primitive object into the class object."
   ]
  },
  {
   "cell_type": "code",
   "execution_count": 4,
   "metadata": {
    "vscode": {
     "languageId": "java"
    }
   },
   "outputs": [
    {
     "name": "stdout",
     "output_type": "stream",
     "text": [
      "1\n",
      "1.5\n"
     ]
    }
   ],
   "source": [
    "Integer a = 1;\n",
    "Double b = 1.5;\n",
    "\n",
    "System.out.println(a);\n",
    "System.out.println(b)"
   ]
  },
  {
   "cell_type": "markdown",
   "metadata": {},
   "source": [
    "### Concatenation, explain or illustrate rules on mixed type Concatenation\n",
    "Concatenation is defined as the joining of data and some examples include string concatenation as well as string and object concatenation with toString() method.\n",
    "\n",
    "### Math class, specifically Random usage\n",
    "The math class contains static methods from the java.lang package\n",
    "* Ex: math.random"
   ]
  },
  {
   "cell_type": "markdown",
   "metadata": {},
   "source": [
    "# Unit 3:\n",
    "\n",
    "[Unit 3 Blog](https://bgt072105.github.io/super-barnacle/2022/11/30/booleanexpressionslesson.html)\n",
    "\n",
    "### Compound Boolean Expression\n",
    "A boolean expression is a logical statement that can either be evaluated to true or false. A compound boolean expression involves two boolean expression, with the second boolean expression only being evaluated if the first boolean expression evaluates to true.\n",
    "\n",
    "### Truth Tables\n",
    "A truth table is a breakdown of a logic function by listing all possible values the function can attain. Such a table typically contains several rows and columns, with the top row representing the logical variables and combinations, in increasing complexity leading up to the final function.\n",
    "\n",
    "### De Morgan's Law\n",
    "DeMorgan's laws tell us how to transform logical expressions (with multiple AND and/or OR statements) using the NOT operator.\n",
    "\n",
    "### Comparing Numbers\n",
    "The compare() method of Integer class of java.lang package compares two integer values (x, y) given as a parameter and returns the value zero if (x==y), returns a value less than zero if (x < y) and returns a value greater than zero if (x > y).\n",
    "\n",
    "### Comparing Strings\n",
    "Ff (string1 > string2) it returns a positive value, if (string1 == string2) it returns 0, and if (string1 < string2) it returns a negative value\n",
    "\n",
    "### Comparing Objects\n",
    "== and != operators\n"
   ]
  },
  {
   "cell_type": "markdown",
   "metadata": {},
   "source": [
    "# Unit 4:\n",
    "\n",
    "[Unit 4 Blog](https://bgt072105.github.io/super-barnacle/2022/11/30/iterationlesson.html)\n",
    "\n",
    "### For loop, enhanced for loop\n",
    "A for loop will keep running for each time a given condition is true. The enhanced for loop is also known as the for each loop and is used to iterate through elements of arrays and collections.\n",
    "\n",
    "### While loop versus do while loop\n",
    "While a specific condition is true, the loop will run. A while loop will check the condition first before running whereas a do while loop will run and then check the condition afterwards.\n",
    "\n",
    "### Nested loops\n",
    "Nested loops are loops within loops.\n"
   ]
  },
  {
   "cell_type": "markdown",
   "metadata": {},
   "source": [
    "# Unit 5:\n",
    "\n",
    "[Unit 5 Blog](https://bgt072105.github.io/super-barnacle/2022/11/30/writingclasseslesson.html)\n",
    "\n",
    "### Classes\n",
    "* blueprints for instantiating objects\n",
    "* model real world objects in code\n",
    "\n",
    "### Anatomy of a Class\n",
    "* Object\n",
    "    * instance of a class\n",
    "* Class\n",
    "    * defines an abstract type\n",
    "* Methods\n",
    "    * behaviors you can get the object to do\n",
    "* Constructors\n",
    "    * creates the object\n",
    "    * special method for object instantiation\n",
    "    * default constructor has no arguments\n",
    "* Main method\n",
    "    * test the class\n",
    "\n",
    "### Accessor Methods\n",
    "* Get of methods or getters\n",
    "    * allows you to get values of variables\n",
    "    * return a copy\n",
    "* Non-void Methods\n",
    "    * value of specific data type returned\n",
    "    * no parameters\n",
    "\n",
    "### Mutator Methods\n",
    "* Set of methods or setters\n",
    "    * allows you to change the value of the variable\n",
    "* Void Methods\n",
    "    * no value returned\n",
    "*   will take parameters\n",
    "\n",
    "### Public, Private, Protected\n",
    "* Public - can be accessed within and outside of class\n",
    "* Private - can only be accessed within the class\n",
    "* Protected - can be accessed by all classes in the package and all subclass outside of the package\n",
    "\n",
    "### Inheritance, extends\n",
    "* Inheritance is a way for attributes and methods to be inherited from one class to another\n",
    "* Extends is what allows you to bring those attributes from one class to another\n",
    "\n",
    "### Subclass constructor, super Keyword\n",
    "* A subclass inherits all the members from the superclass while the constructor of the superclass can be invoked from the subclass\n",
    "* Super keyword refers to superclass objects; it is used to call superclass methods and to access the superclass constructor\n",
    "\n",
    "### Overloading a method, same name different parameters\n",
    "* Overloading a method in java is a feature that allows a class to have more than one method with the same name, but with different parameters\n",
    "* Instead of defining two methods that do the same thing, it is better to overload one\n",
    "\n",
    "### Overriding a method, same signature of a method\n",
    "* Method overriding occurs when a subclass has the same method as the parent class\n",
    "* When a subclass provides a particular implementation of a method declared by one of its parent classes\n",
    "\n",
    "### Abstract Class, Abstract Method\n",
    "* A abstract class cannot be instantiated but they can be subclassed\n",
    "* An abstract method is a method that has just the method definition but does not contain implementation\n",
    "\n",
    "### Standard methods: toString(), equals(), hashCode()\n",
    "* Standard methods are blocks of code that can be called from another location in the program or class\n",
    "* toString(); returns the given value in string format\n",
    "* equals(); compares two strings and returns true if the strings are equal\n",
    "* hashCode(); returns an integer value generated by a hashing algorithm\n",
    "\n",
    "### Late binding of object, referencing superclass object, ie Animal a = new Chicken(); Animal b = new Goat();\n",
    "* Late binding is when the compiler should perform no argument checks, no type checks on a method call and should leave it all to the runtime\n",
    "\n",
    "### Polymorphism: any of overloading, overriding, late binding\n",
    "* Polymorphism is the ability of a class to provide different implementations of a method depending on the type of object that is passed to the method\n",
    "* Allows us to perform the same action in many different ways\n",
    "\n",
    "### Big O notation for Hash map, Binary Search, Single loop, Nested Loop\n",
    "* Big O notation describes the set of all algorithms that run no worse than a certain speed, no better than a certain speed, and at a certain speed\n",
    "* Shows the number of operations it will perform"
   ]
  }
 ],
 "metadata": {
  "kernelspec": {
   "display_name": "Java",
   "language": "java",
   "name": "java"
  },
  "language_info": {
   "codemirror_mode": "java",
   "file_extension": ".jshell",
   "mimetype": "text/x-java-source",
   "name": "Java",
   "pygments_lexer": "java",
   "version": "17.0.4+8"
  },
  "orig_nbformat": 4,
  "vscode": {
   "interpreter": {
    "hash": "9183a533545d0b65b81c3395c708e1f9395188a8f9d11da77e00daa9d2dfddea"
   }
  }
 },
 "nbformat": 4,
 "nbformat_minor": 2
}
