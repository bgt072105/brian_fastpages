{
 "cells": [
  {
   "cell_type": "markdown",
   "metadata": {},
   "source": [
    "# GUI Notebook\n",
    "> Jupyter Notebook containing my GUI project\n",
    "\n"
   ]
  },
  {
   "cell_type": "code",
   "execution_count": 5,
   "metadata": {
    "vscode": {
     "languageId": "java"
    }
   },
   "outputs": [
    {
     "name": "stdout",
     "output_type": "stream",
     "text": [
      "Jgnnq\n"
     ]
    }
   ],
   "source": [
    "import java.awt.*;\n",
    "import java.awt.event.*;\n",
    "import javax.swing.*;\n",
    "import java.util.Timer;\n",
    "import java.util.TimerTask;\n",
    "// Graphical-User-Interface for Desktop in Java using Java Swing. \n",
    "public class MenuJFrame {\n",
    "    static String myMethod(String s,int i) { \n",
    "        String r = \"\"; \n",
    "        for(int j = 0; j < s.length(); j++) {\n",
    "            r += (char)(s.charAt(j)+i);\n",
    "        } \n",
    "        return r; \n",
    "    }\n",
    "      \n",
    "\n",
    "    // Driver turn over control the GUI\n",
    "    public static void main(String[] args) {\n",
    "        System.out.println(myMethod(\"Hello\", 2));\n",
    "    }\n",
    "}\n",
    "MenuJFrame.main(null);"
   ]
  }
 ],
 "metadata": {
  "kernelspec": {
   "display_name": "Java",
   "language": "java",
   "name": "java"
  },
  "language_info": {
   "codemirror_mode": "java",
   "file_extension": ".jshell",
   "mimetype": "text/x-java-source",
   "name": "Java",
   "pygments_lexer": "java",
   "version": "17.0.4+8"
  },
  "orig_nbformat": 4,
  "vscode": {
   "interpreter": {
    "hash": "9183a533545d0b65b81c3395c708e1f9395188a8f9d11da77e00daa9d2dfddea"
   }
  }
 },
 "nbformat": 4,
 "nbformat_minor": 2
}
