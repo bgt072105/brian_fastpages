{
 "cells": [
  {
   "cell_type": "markdown",
   "metadata": {},
   "source": [
    "Early seed award\n",
    "\n",
    "* Write a sample binary addition 1 + 1 = 10\n",
    "* Have Java Code cell on screen at start of lecture\n",
    "* Don't tell anyone"
   ]
  },
  {
   "cell_type": "code",
   "execution_count": 62,
   "metadata": {},
   "outputs": [
    {
     "name": "stdout",
     "output_type": "stream",
     "text": [
      "10010\n"
     ]
    }
   ],
   "source": [
    "int first = 1010;\n",
    "int second = 1000;\n",
    "String firstString = String.valueOf(first);\n",
    "String secondString = String.valueOf(second);\n",
    "int carryover = 0;\n",
    "String result = \"\";\n",
    "for (int i = firstString.length() - 1; i >= 0; i--) {\n",
    "    String firstChar = String.valueOf(firstString.charAt(i));\n",
    "    String secondChar = String.valueOf(secondString.charAt(i));\n",
    "    int numOfOnes = 0;\n",
    "    if (firstChar.equals(\"1\")) {\n",
    "        numOfOnes++;\n",
    "    }\n",
    "    if (secondChar.equals(\"1\")) {\n",
    "        numOfOnes++;\n",
    "    }\n",
    "    if (carryover == 1) {\n",
    "        numOfOnes++;\n",
    "    }\n",
    "    if (numOfOnes % 2 == 0) {\n",
    "        result = \"0\" + result;\n",
    "    } else {\n",
    "        result = \"1\" + result;\n",
    "    }\n",
    "    if (numOfOnes >= 2) {\n",
    "        carryover = 1;\n",
    "    }\n",
    "}\n",
    "if (carryover == 1) {\n",
    "    result = \"1\" + result;\n",
    "}\n",
    "System.out.println(result);"
   ]
  },
  {
   "cell_type": "markdown",
   "metadata": {},
   "source": [
    "Start with some small code exercises\n",
    "\n",
    "* Write a Jupyter notebook code example on the following primitive types with a code example (4 to 5 lines), preference would be using array and methods like substring and random as applicable: int, double, boolean, char."
   ]
  },
  {
   "cell_type": "markdown",
   "metadata": {},
   "source": [
    "int"
   ]
  },
  {
   "cell_type": "code",
   "execution_count": 37,
   "metadata": {},
   "outputs": [
    {
     "name": "stdout",
     "output_type": "stream",
     "text": [
      "-138056936\n"
     ]
    }
   ],
   "source": [
    "Random rand = new Random();\n",
    "int first = rand.nextInt();\n",
    "int second = rand.nextInt();\n",
    "int result = rand.nextInt();\n",
    "System.out.println(result);"
   ]
  },
  {
   "cell_type": "markdown",
   "metadata": {},
   "source": [
    "double"
   ]
  },
  {
   "cell_type": "code",
   "execution_count": 35,
   "metadata": {},
   "outputs": [
    {
     "name": "stdout",
     "output_type": "stream",
     "text": [
      "0.8047577767924244\n"
     ]
    }
   ],
   "source": [
    "Random rand = new Random();\n",
    "double first = rand.nextDouble();\n",
    "double second = rand.nextDouble();\n",
    "double third = rand.nextDouble();\n",
    "System.out.println(first + second - third);"
   ]
  },
  {
   "cell_type": "markdown",
   "metadata": {},
   "source": [
    "boolean"
   ]
  },
  {
   "cell_type": "code",
   "execution_count": 49,
   "metadata": {},
   "outputs": [
    {
     "name": "stdout",
     "output_type": "stream",
     "text": [
      "true\n",
      "false\n",
      "true\n",
      "false\n",
      "true\n"
     ]
    }
   ],
   "source": [
    "boolean[] array = new boolean[5];\n",
    "for (int i = 0; i < 5; i++) {\n",
    "    boolean isEven = i % 2 == 0;\n",
    "    array[i] = isEven;\n",
    "    System.out.println(array[i]);\n",
    "}"
   ]
  },
  {
   "cell_type": "markdown",
   "metadata": {},
   "source": [
    "char"
   ]
  },
  {
   "cell_type": "code",
   "execution_count": 48,
   "metadata": {},
   "outputs": [
    {
     "name": "stdout",
     "output_type": "stream",
     "text": [
      "s\n",
      "r\n"
     ]
    }
   ],
   "source": [
    "String start = \"start\";\n",
    "for (int i = 0; i<start.length(); i++) {\n",
    "    if(String.valueOf(start.charAt(i)).equals(\"t\")) {\n",
    "        char letterBefore = start.charAt(i - 1);\n",
    "        System.out.println(letterBefore);\n",
    "    }\n",
    "}"
   ]
  },
  {
   "cell_type": "markdown",
   "metadata": {},
   "source": [
    "* Now convert each of the examples to corresponding Wrapper classes, using arrays.\n",
    "* Expression of these in Class or PBL forms is an option. But the review must be easy for me to see work."
   ]
  },
  {
   "cell_type": "markdown",
   "metadata": {},
   "source": [
    "int"
   ]
  },
  {
   "cell_type": "code",
   "execution_count": 50,
   "metadata": {},
   "outputs": [
    {
     "name": "stdout",
     "output_type": "stream",
     "text": [
      "-562278610\n"
     ]
    }
   ],
   "source": [
    "Random rand = new Random();\n",
    "Integer first = rand.nextInt();\n",
    "Integer second = rand.nextInt();\n",
    "Integer result = rand.nextInt();\n",
    "System.out.println(result);"
   ]
  },
  {
   "cell_type": "markdown",
   "metadata": {},
   "source": [
    "double"
   ]
  },
  {
   "cell_type": "code",
   "execution_count": 51,
   "metadata": {},
   "outputs": [
    {
     "name": "stdout",
     "output_type": "stream",
     "text": [
      "-0.7301652696781806\n"
     ]
    }
   ],
   "source": [
    "Random rand = new Random();\n",
    "Double first = rand.nextDouble();\n",
    "Double second = rand.nextDouble();\n",
    "Double third = rand.nextDouble();\n",
    "System.out.println(first + second - third);"
   ]
  },
  {
   "cell_type": "markdown",
   "metadata": {},
   "source": [
    "boolean"
   ]
  },
  {
   "cell_type": "code",
   "execution_count": 58,
   "metadata": {},
   "outputs": [
    {
     "name": "stdout",
     "output_type": "stream",
     "text": [
      "true\n",
      "false\n",
      "true\n",
      "false\n",
      "true\n"
     ]
    }
   ],
   "source": [
    "ArrayList<Boolean> array = new ArrayList<Boolean>();\n",
    "for (int i = 0; i < 5; i++) {\n",
    "    Boolean isEven = i % 2 == 0;\n",
    "    array.add(isEven);\n",
    "    System.out.println(array.get(i));\n",
    "}"
   ]
  },
  {
   "cell_type": "markdown",
   "metadata": {},
   "source": [
    "char"
   ]
  },
  {
   "cell_type": "code",
   "execution_count": 53,
   "metadata": {},
   "outputs": [
    {
     "name": "stdout",
     "output_type": "stream",
     "text": [
      "s\n",
      "r\n"
     ]
    }
   ],
   "source": [
    "String start = \"start\";\n",
    "for (int i = 0; i<start.length(); i++) {\n",
    "    if(String.valueOf(start.charAt(i)).equals(\"t\")) {\n",
    "        Character letterBefore = start.charAt(i - 1);\n",
    "        System.out.println(letterBefore);\n",
    "    }\n",
    "}"
   ]
  }
 ],
 "metadata": {
  "kernelspec": {
   "display_name": "Java",
   "language": "java",
   "name": "java"
  },
  "language_info": {
   "codemirror_mode": "java",
   "file_extension": ".jshell",
   "mimetype": "text/x-java-source",
   "name": "java",
   "pygments_lexer": "java",
   "version": "17.0.4+8"
  },
  "orig_nbformat": 4
 },
 "nbformat": 4,
 "nbformat_minor": 2
}
