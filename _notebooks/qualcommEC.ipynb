{
 "cells": [
  {
   "cell_type": "markdown",
   "metadata": {},
   "source": [
    "# Key Takeaways\n"
   ]
  },
  {
   "cell_type": "markdown",
   "metadata": {},
   "source": [
    "# Notes on Kathyleen Beveridge:\n",
    "\n",
    "- Born in Vietnam and moved to the United States in 1980\n",
    "- Bachelor in finance in Santa Clara\n",
    "- MBA at USC\n",
    "- Favorite poet is Maya Angelou\n",
    "- Personal mission statement: My mission in life is not merely to survive, but to thrive; and to do so with some passion, some compassion, some humor, and some style\n",
    "- Started as investment banker with Wells Fargo\n",
    "- Started high tech career with HP (burned out)\n",
    "- Moved to San Diego and took six months off\n",
    "- Proceeded to start at Qualcomm\n",
    "- Left Qualcomm to go to Thermo Fisher (biotech)\n",
    "- HP mission statement: Create technology that makes life better for everyone, every where\n",
    "- Qualcomm mission statement: Inventing the tech the world loves\n",
    "- Thermo Fisher Scientific: to enable our customers to make the world healthier, cleaner and safer\n",
    "- Background is not in tech, but she has made the transition\n",
    "- Is now senior director of marketing at Thermo Fisher\n"
   ]
  },
  {
   "cell_type": "markdown",
   "metadata": {},
   "source": [
    "# Notes on Kris Porter:\n",
    "\n",
    "- UCLA for electrical engineering (bachelor’s and master’s)\n",
    "- Failed first computer science course at UCLA but tried again\n",
    "- Stock market was terrible when he graduated from grad school\n",
    "- Hard to find a job since the economy was not doing well\n",
    "- Job at startup (doing Devops work)\n",
    "- Later moved to Qualcomm and did a wide variety of engineering (Devops, automation, monitoring)\n",
    "- Started working at Twitter 2 years ago\n",
    "- Values continuous learning in high tech"
   ]
  },
  {
   "cell_type": "markdown",
   "metadata": {},
   "source": [
    "# Summary\n",
    "\n",
    "Both Kathyleen Beverdige and Kris Porter did not necessarily major in computer science or a closely related field while in college. Kathyleen Beveridge majored in finance for her bachelor’s degree and Kris Porter majored in electrical engineering for his bachelor’s degree. While electrical engineering is a little more related to computer science, with both fields of study being in the field of STEM, they aren’t explicitly intertwined. Porter mentioned failing the first computer science course he took at UCLA, but despite this failure he continued pursuing classes in the computer science field. The pivots that both Beveridge and Porter make show just how important having a tenacious attitude and a willingness to continuously learn are in the computer science and engineering field. They both have made not insignificant transitions throughout the course of their career, but their persistence and desire to absorb knowledge is what has allowed them to become so successful in their respective fields. Continuous learning is a subject that both Beveridge and Porter emphasized, showing just how critical adaptability and flexibility are in the tech industry.\n",
    "\n",
    "The presentation led by Beveridge and Porter has also led me to reevaluate my own reasons for pursuing an education and subsequent career in the tech industry. Prior to this presentation, my primary considerations behind pursuing a career in the tech industry was for my own interests. I have always been interested in the applications of tech in my own life, but today’s presentation has also led me to consider the impact that I can have on others through the pursuit of a career in tech. Specifically, Beveridge mentioned how the mission statements of all of the major companies she has worked at have involved improving the lives of other people. Furthermore, Porter discussed the real world applications of the projects that he has worked on, such as location based services like location based push notifications. The work that both Beveridge and Porter have done have had significant impacts on the lives of a wide variety of people. Considering how quickly the tech industry is still growing and how many people use tech in their daily lives, the number of people who can have their lives touched by people working in the tech industry is growing every day. Overall, the presentation led by Beveridge and Porter really highlighted what it takes to thrive in the tech industry and the true extent of the impacts that the tech industry can have on society."
   ]
  }
 ],
 "metadata": {
  "language_info": {
   "name": "python"
  },
  "orig_nbformat": 4
 },
 "nbformat": 4,
 "nbformat_minor": 2
}
