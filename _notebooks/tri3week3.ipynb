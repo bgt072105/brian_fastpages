{
 "cells": [
  {
   "cell_type": "code",
   "execution_count": 138,
   "metadata": {
    "vscode": {
     "languageId": "java"
    }
   },
   "outputs": [],
   "source": [
    "class SortMethods {\n",
    "    public SortMethods() {\n",
    "\n",
    "    }\n",
    "    public int[] bubbleSort(int[] array) {\n",
    "        for(int i = 0; i<array.length; i++) {\n",
    "            for( int j = 1; j<array.length - i; j++) {\n",
    "                if (array[j] < array[j-1]) {\n",
    "                    int value = array[j];\n",
    "                    array[j] = array[j-1];\n",
    "                    array[j-1] = value;\n",
    "                }\n",
    "            }\n",
    "        }\n",
    "        return array;\n",
    "    }\n",
    "    public int[] selectionSort(int[] array) {\n",
    "        for(int i = 0; i<array.length; i++) {\n",
    "            Integer minimum = Integer.MAX_VALUE;\n",
    "            int minimumIndex = 0;\n",
    "            for( int j = i + 1; j<array.length; j++) {\n",
    "                if (array[j] < minimum) {\n",
    "                    minimum = array[j];\n",
    "                    minimumIndex = j;\n",
    "                }\n",
    "            }\n",
    "            int value = array[i];\n",
    "            if (minimum < value) {\n",
    "                array[i] = array[minimumIndex];\n",
    "                array[minimumIndex] = value;\n",
    "            }\n",
    "        }\n",
    "        return array;\n",
    "    }\n",
    "    public int[] insertionSort(int[] array) {\n",
    "        for (int i = 1; i<array.length; i++) {\n",
    "            int value = array[i];\n",
    "            int index = 0;\n",
    "            for (int j = i - 1; j >= 0; j--) {\n",
    "                if (value < array[j]) {\n",
    "                    array[j+1] = array[j];\n",
    "                } else {\n",
    "                    index = j + 1;\n",
    "                    break;\n",
    "                }\n",
    "                if (j == 0) {\n",
    "                    index = j;\n",
    "                }\n",
    "            }\n",
    "            array[index] = value;\n",
    "        }\n",
    "        return array;\n",
    "    }\n",
    "}"
   ]
  },
  {
   "cell_type": "code",
   "execution_count": 140,
   "metadata": {
    "vscode": {
     "languageId": "java"
    }
   },
   "outputs": [
    {
     "name": "stdout",
     "output_type": "stream",
     "text": [
      "2,12,14,18,20,\n",
      "2,12,14,18,20,\n",
      "1,2,8,9,10,\n"
     ]
    }
   ],
   "source": [
    "class SortTester {\n",
    "    public static void test() {\n",
    "        SortMethods sorter = new SortMethods();\n",
    "        int[] array = {14, 12, 18, 20, 2};\n",
    "        int[] bubbleSorted = sorter.bubbleSort(array);\n",
    "        for(int i = 0; i < bubbleSorted.length; i++) {\n",
    "            System.out.print(bubbleSorted[i]);\n",
    "            System.out.print(\",\");\n",
    "        }\n",
    "        System.out.println();\n",
    "        int[] array2 = {14, 12, 18, 20, 2};\n",
    "        int[] selectionSorted = sorter.selectionSort(array2);\n",
    "        for(int i = 0; i < selectionSorted.length; i++) {\n",
    "            System.out.print(selectionSorted[i]);\n",
    "            System.out.print(\",\");\n",
    "        }\n",
    "        System.out.println();\n",
    "        int[] array3 = {8, 10, 9, 2, 1};\n",
    "        int[] insertionSorted = sorter.insertionSort(array3);\n",
    "        for(int i = 0; i < insertionSorted.length; i++) {\n",
    "            System.out.print(insertionSorted[i]);\n",
    "            System.out.print(\",\");\n",
    "        }\n",
    "        System.out.println();\n",
    "    }\n",
    "}\n",
    "SortTester.test();"
   ]
  },
  {
   "cell_type": "code",
   "execution_count": null,
   "metadata": {
    "vscode": {
     "languageId": "java"
    }
   },
   "outputs": [],
   "source": []
  }
 ],
 "metadata": {
  "kernelspec": {
   "display_name": "Java",
   "language": "java",
   "name": "java"
  },
  "language_info": {
   "codemirror_mode": "java",
   "file_extension": ".jshell",
   "mimetype": "text/x-java-source",
   "name": "Java",
   "pygments_lexer": "java",
   "version": "17.0.4+8"
  },
  "orig_nbformat": 4
 },
 "nbformat": 4,
 "nbformat_minor": 2
}
