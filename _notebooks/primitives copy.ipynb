{
 "cells": [
  {
   "cell_type": "markdown",
   "metadata": {},
   "source": [
    "# If Else Lesson Jupyter Notebook\n",
    "> Learning about if else statements\n",
    "\n"
   ]
  },
  {
   "cell_type": "markdown",
   "metadata": {},
   "source": [
    "# If Statements\n",
    "If statements can be used to evaluate whether a condition is true or not."
   ]
  },
  {
   "cell_type": "code",
   "execution_count": null,
   "metadata": {
    "vscode": {
     "languageId": "java"
    }
   },
   "outputs": [],
   "source": [
    "if (grade >= 70){ // condition is only true if a person's grade in the class is over 70%\n",
    "    System.out.print(\"You have passed the class\");\n",
    "}\n"
   ]
  },
  {
   "cell_type": "markdown",
   "metadata": {},
   "source": [
    "# Else If Statements\n",
    "Else if statements are used to check if another condition, other than the one that was checked first, is true or not."
   ]
  },
  {
   "cell_type": "code",
   "execution_count": null,
   "metadata": {
    "vscode": {
     "languageId": "java"
    }
   },
   "outputs": [],
   "source": [
    "if (grade >= 70){ // condition is only true if a person's grade in the class is over 70%\n",
    "    System.out.print(\"You have passed the class\");\n",
    "}\n",
    "else if (grade >= 60){\n",
    "    System.out.print(\"You can pass the class by completing extra credit work\");\n",
    "}"
   ]
  },
  {
   "cell_type": "markdown",
   "metadata": {},
   "source": [
    "# Else Statements\n",
    "Else statements allow for an alternative statement to be executed if a previous condition had evaluated to false."
   ]
  },
  {
   "cell_type": "code",
   "execution_count": null,
   "metadata": {
    "vscode": {
     "languageId": "java"
    }
   },
   "outputs": [],
   "source": [
    "if (grade >= 70){ // condition is only true if a person's grade in the class is over 70%\n",
    "    System.out.print(\"You have passed the class\");\n",
    "}\n",
    "else{ // if the person does not earned a passing grade of 70% or above, they have not passed the class\n",
    "    System.out.print(\"You did not pass the class\");\n",
    "}"
   ]
  },
  {
   "cell_type": "markdown",
   "metadata": {},
   "source": [
    "# If, ELse If, Else Grades\n",
    "In this case, If statements, Else If statements, and Else statements are used to check what letter grade a number corresponds with."
   ]
  },
  {
   "cell_type": "code",
   "execution_count": null,
   "metadata": {
    "vscode": {
     "languageId": "java"
    }
   },
   "outputs": [],
   "source": [
    "if (grade >= 90){ // condition is only true if a person's grade in the class is over 90%\n",
    "    System.out.print(\"You have earned an A in the class\");\n",
    "}\n",
    "else if (grade >=80){ // if a person earned a 80% or above but below 90% they earned a B in the class\n",
    "    System.out.print(\"You have earned a B in the class\");\n",
    "}\n",
    "else if (grade >=70){ // if a person earned a 70% or above but below 80% they earned a C in the class\n",
    "    System.out.print(\"You have earned a C in the class\");\n",
    "}\n",
    "else{ // if a person earned below a 70% in the class, they did not pass the class\n",
    "    System.out.print(\"You did not pass the class\");\n",
    "}"
   ]
  },
  {
   "cell_type": "markdown",
   "metadata": {},
   "source": [
    "# Switch Case With Grades\n",
    "A switch case is an if-else ladder than can be used to check multiple conditions at once. In this case the program is checking what letter grade a particular numerical grade corresponds with."
   ]
  },
  {
   "cell_type": "code",
   "execution_count": null,
   "metadata": {
    "vscode": {
     "languageId": "java"
    }
   },
   "outputs": [],
   "source": []
  },
  {
   "cell_type": "markdown",
   "metadata": {},
   "source": [
    "# If and Else Monotonic Function\n",
    "If statements and else statements are used to evaluate whether an array of numbers is monotonic."
   ]
  },
  {
   "cell_type": "code",
   "execution_count": 2,
   "metadata": {
    "vscode": {
     "languageId": "java"
    }
   },
   "outputs": [
    {
     "name": "stdout",
     "output_type": "stream",
     "text": [
      "Enter the length for the array: \n",
      "Enter the numbers contained in the array: \n",
      "[1, 2, 3, 4, 5]\n",
      "Yes, the function is monotonic"
     ]
    }
   ],
   "source": []
  },
  {
   "cell_type": "markdown",
   "metadata": {},
   "source": [
    "# De Morgan's Law with Monotonic Function\n",
    "De Morgan's Law allows for boolean expressions to be written in different ways, but still produce the same result. The || means \"or\" and the && means \"and.\""
   ]
  },
  {
   "cell_type": "code",
   "execution_count": null,
   "metadata": {
    "vscode": {
     "languageId": "java"
    }
   },
   "outputs": [],
   "source": []
  }
 ],
 "metadata": {
  "kernelspec": {
   "display_name": "Java",
   "language": "java",
   "name": "java"
  },
  "language_info": {
   "codemirror_mode": "java",
   "file_extension": ".jshell",
   "mimetype": "text/x-java-source",
   "name": "Java",
   "pygments_lexer": "java",
   "version": "17.0.4+8"
  },
  "orig_nbformat": 4,
  "vscode": {
   "interpreter": {
    "hash": "9183a533545d0b65b81c3395c708e1f9395188a8f9d11da77e00daa9d2dfddea"
   }
  }
 },
 "nbformat": 4,
 "nbformat_minor": 2
}
