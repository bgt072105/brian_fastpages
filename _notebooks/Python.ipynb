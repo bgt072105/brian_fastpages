{
 "cells": [
  {
    "cell_type": "markdown",
    "metadata": {},
    "source": [
     "# Python Notebook\n",
     "> Python Jupyter Notebookn.\n",
     "\n"
    ]
  },
  {
   "cell_type": "code",
   "execution_count": null,
   "metadata": {},
   "outputs": [],
   "source": [
    "print('Hello, world!')"
   ]
  }
 ],
 "metadata": {
  "language_info": {
   "name": "python"
  },
  "orig_nbformat": 4
 },
 "nbformat": 4,
 "nbformat_minor": 2
}
