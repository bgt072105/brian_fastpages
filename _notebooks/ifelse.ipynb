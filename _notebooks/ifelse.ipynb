{
 "cells": [
  {
   "cell_type": "markdown",
   "metadata": {},
   "source": [
    "# If Else Lesson Jupyter Notebook\n",
    "> Learning about if else statements\n",
    "\n"
   ]
  },
  {
   "cell_type": "markdown",
   "metadata": {},
   "source": [
    "# If Statements\n",
    "If statements can be used to evaluate whether a condition is true or not."
   ]
  },
  {
   "cell_type": "code",
   "execution_count": null,
   "metadata": {},
   "outputs": [],
   "source": [
    "if (grade >= 70){ // condition is only true if a person's grade in the class is over 70%\n",
    "    System.out.print(\"You have passed the class\");\n",
    "}\n"
   ]
  },
  {
   "cell_type": "markdown",
   "metadata": {},
   "source": [
    "# Else If Statements\n",
    "Else if statements are used to check if another condition, other than the one that was checked first, is true or not."
   ]
  },
  {
   "cell_type": "code",
   "execution_count": null,
   "metadata": {},
   "outputs": [],
   "source": [
    "if (grade >= 70){ // condition is only true if a person's grade in the class is over 70%\n",
    "    System.out.print(\"You have passed the class\");\n",
    "}\n",
    "else if (grade >= 60){\n",
    "    System.out.print(\"You can pass the class by completing extra credit work\");\n",
    "}"
   ]
  },
  {
   "cell_type": "markdown",
   "metadata": {},
   "source": [
    "# Else Statements\n",
    "Else statements allow for an alternative statement to be executed if a previous condition had evaluated to false."
   ]
  },
  {
   "cell_type": "code",
   "execution_count": null,
   "metadata": {},
   "outputs": [],
   "source": [
    "if (grade >= 70){ // condition is only true if a person's grade in the class is over 70%\n",
    "    System.out.print(\"You have passed the class\");\n",
    "}\n",
    "else{ // if the person does not earned a passing grade of 70% or above, they have not passed the class\n",
    "    System.out.print(\"You did not pass the class\");\n",
    "}"
   ]
  },
  {
   "cell_type": "markdown",
   "metadata": {},
   "source": [
    "# If, Else If, Else Grades\n",
    "In this case, If statements, Else If statements, and Else statements are used to check what letter grade a number corresponds with."
   ]
  },
  {
   "cell_type": "code",
   "execution_count": null,
   "metadata": {},
   "outputs": [],
   "source": [
    "if (grade >= 90){ // condition is only true if a person's grade in the class is over 90%\n",
    "    System.out.print(\"You have earned an A in the class\");\n",
    "}\n",
    "else if (grade >=80){ // if a person earned a 80% or above but below 90% they earned a B in the class\n",
    "    System.out.print(\"You have earned a B in the class\");\n",
    "}\n",
    "else if (grade >=70){ // if a person earned a 70% or above but below 80% they earned a C in the class\n",
    "    System.out.print(\"You have earned a C in the class\");\n",
    "}\n",
    "else{ // if a person earned below a 70% in the class, they did not pass the class\n",
    "    System.out.print(\"You did not pass the class\");\n",
    "}"
   ]
  },
  {
   "cell_type": "markdown",
   "metadata": {},
   "source": [
    "# Switch Case With Grades\n",
    "A switch case is an if-else ladder than can be used to check multiple conditions at once. In this case the program is checking what letter grade a particular numerical grade corresponds with."
   ]
  },
  {
   "cell_type": "code",
   "execution_count": 18,
   "metadata": {},
   "outputs": [
    {
     "name": "stdout",
     "output_type": "stream",
     "text": [
      "Enter your score: \n",
      "Your score is: 95\n",
      "The letter grade you earned is a A\n",
      "The grade point you earned is a 4\n"
     ]
    }
   ],
   "source": [
    "import java.util.Scanner; \n",
    "\n",
    "public class GradeSwitch{\n",
    "    public static void main(String[] args){\n",
    "        String grade;\n",
    "        int gradepoint;\n",
    "        System.out.print(\"Enter your score: \\n\");  \n",
    "        Scanner scanner = new Scanner(System.in); \n",
    "        int score = scanner.nextInt(); \n",
    "        System.out.print(\"Your score is: \");  \n",
    "        System.out.print(score + \"\\n\");\n",
    "        int scoremultipleoften = score/10; // int rounds down\n",
    "\n",
    "        // the grade brackets are 10 points each, so we can divide by 10 to find each letter grade\n",
    "        switch(scoremultipleoften){\n",
    "            case 10:\n",
    "                grade = \"A+\";\n",
    "                gradepoint = 4;\n",
    "                break;\n",
    "            case 9:\n",
    "                grade = \"A\";\n",
    "                gradepoint = 4;\n",
    "                break;\n",
    "            case 8:\n",
    "                grade = \"B\";\n",
    "                gradepoint = 3;\n",
    "                break;\n",
    "            case 7:\n",
    "                grade = \"C\";\n",
    "                gradepoint = 2;\n",
    "                break;\n",
    "            case 6:\n",
    "                grade = \"D\";\n",
    "                gradepoint = 1;\n",
    "                break;\n",
    "            default:\n",
    "                grade = \"F\";\n",
    "                gradepoint = 0;\n",
    "                break;\n",
    "        }\n",
    "        System.out.println(\"The letter grade you earned is a \" + grade);\n",
    "        System.out.println(\"The grade point you earned is a \" + gradepoint);\n",
    "    }\n",
    "}\n",
    "GradeSwitch.main(null)"
   ]
  },
  {
   "cell_type": "markdown",
   "metadata": {},
   "source": [
    "# If and Else Monotonic Function\n",
    "If statements and else statements are used to evaluate whether an array of numbers is monotonic."
   ]
  },
  {
   "cell_type": "code",
   "execution_count": 13,
   "metadata": {},
   "outputs": [
    {
     "name": "stdout",
     "output_type": "stream",
     "text": [
      "Enter the length for the array: \n",
      "Enter the numbers for the array: \n",
      "[1, 2, 3]\n",
      "Yes, the function is monotonic"
     ]
    }
   ],
   "source": [
    "import java.util.Scanner; \n",
    "\n",
    "class Monotonic {\n",
    "    public static void main (String[] args) {\n",
    "        Scanner scanner = new Scanner(System.in);\n",
    "        System.out.println(\"Enter the length for the array: \"); // user decides the total length the array\n",
    "        int length = scanner.nextInt();\n",
    "        int [] array = new int [length];\n",
    "        System.out.println(\"Enter the numbers for the array: \"); // user decides the specific numbers to put in the array\n",
    "            for (int i=0; i<length; i++) {\n",
    "                array[i] = scanner.nextInt();\n",
    "            }\n",
    "    System.out.println(Arrays.toString(array));\n",
    "        \n",
    "    boolean answer = monotonicchecker(array);\n",
    "    if (answer == true) // if the array is only increasing or decreasing then it is monotonic\n",
    "    System.out.print(\"Yes, the function is monotonic\");\n",
    "    else // if the array is doing both increasing and decreasing then it is not monotonic\n",
    "    System.out.print(\"No, the function is not monotonic\");\n",
    "\n",
    "    }\n",
    "}\n",
    "\n",
    "public static boolean monotonicchecker(int array[]){\n",
    "    boolean ascending=false;\n",
    "    boolean descending=false;\n",
    "    for (int i=0; i<array.length-1; i++){\n",
    "        if (array[i]>array[i+1]){\n",
    "            descending=true;\n",
    "        }\n",
    "        else if (array[i]<array[i+1]){\n",
    "            ascending=true;\n",
    "        }\n",
    "        else{\n",
    "            if(descending && !ascending){\n",
    "                ascending=true;\n",
    "            }\n",
    "            else if(ascending && !descending){\n",
    "                descending=true;\n",
    "            }\n",
    "        }\n",
    "        if(ascending && descending){\n",
    "            return false;\n",
    "        }\n",
    "    }\n",
    "    return true;\n",
    "}\n",
    "\n",
    "Monotonic.main(null);"
   ]
  },
  {
   "cell_type": "markdown",
   "metadata": {},
   "source": [
    "# De Morgan's Law\n",
    "De Morgan's Law allows for boolean expressions to be written in different ways, but still produce the same result. The || means \"or\" and the && means \"and.\""
   ]
  },
  {
   "cell_type": "code",
   "execution_count": 15,
   "metadata": {},
   "outputs": [
    {
     "name": "stdout",
     "output_type": "stream",
     "text": [
      "Enter the length for the array: \n",
      "Enter the numbers for the array: \n",
      "[1, 2, 3]\n",
      "Yes, the function is monotonic"
     ]
    }
   ],
   "source": [
    "import java.util.Scanner; \n",
    "\n",
    "class Monotonic {\n",
    "    public static void main (String[] args) {\n",
    "        Scanner scanner = new Scanner(System.in);\n",
    "        System.out.println(\"Enter the length for the array: \"); // user decides the total length the array\n",
    "        int length = scanner.nextInt();\n",
    "        int [] array = new int [length];\n",
    "        System.out.println(\"Enter the numbers for the array: \"); // user decides the specific numbers to put in the array\n",
    "            for (int i=0; i<length; i++) {\n",
    "                array[i] = scanner.nextInt();\n",
    "            }\n",
    "    System.out.println(Arrays.toString(array));\n",
    "        \n",
    "    boolean answer = monotonicchecker(array);\n",
    "    if (answer == true) // if the array is only increasing or decreasing then it is monotonic\n",
    "    System.out.print(\"Yes, the function is monotonic\");\n",
    "    else // if the array is doing both increasing and decreasing then it is not monotonic\n",
    "    System.out.print(\"No, the function is not monotonic\");\n",
    "\n",
    "    }\n",
    "}\n",
    "\n",
    "public static boolean monotonicchecker(int array[]){\n",
    "    boolean ascending=false;\n",
    "    boolean descending=false;\n",
    "    for (int i=0; i<array.length-1; i++){\n",
    "        if (!(array[i]<=array[i+1])){ // changed logic to reflect De Morgan's Law\n",
    "            descending=true;\n",
    "        }\n",
    "        else if (!(array[i]>=array[i+1])){ // changed logic to reflect De Morgan's Law\n",
    "            ascending=true;\n",
    "        }\n",
    "        else{\n",
    "            if(descending && !ascending){\n",
    "                ascending=true;\n",
    "            }\n",
    "            else if(ascending && !descending){\n",
    "                descending=true;\n",
    "            }\n",
    "        }\n",
    "        if(!(!ascending || !descending)){ // changed logic to reflect De Morgan's Law\n",
    "            return false;\n",
    "        }\n",
    "    }\n",
    "    return true;\n",
    "}\n",
    "\n",
    "Monotonic.main(null);import java.util.Scanner; \n",
    "\n"
   ]
  }
 ],
 "metadata": {
  "kernelspec": {
   "display_name": "Java",
   "language": "java",
   "name": "java"
  },
  "language_info": {
   "codemirror_mode": "java",
   "file_extension": ".jshell",
   "mimetype": "text/x-java-source",
   "name": "java",
   "pygments_lexer": "java",
   "version": "3.10.6"
  },
  "orig_nbformat": 4,
  "vscode": {
   "interpreter": {
    "hash": "b0fa6594d8f4cbf19f97940f81e996739fb7646882a419484c72d19e05852a7e"
   }
  }
 },
 "nbformat": 4,
 "nbformat_minor": 2
}
