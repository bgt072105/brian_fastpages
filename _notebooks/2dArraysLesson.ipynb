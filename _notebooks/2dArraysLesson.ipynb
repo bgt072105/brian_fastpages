{
 "cells": [
  {
   "cell_type": "markdown",
   "metadata": {},
   "source": [
    "# Unit 8 Lesson on 2D Arrays\n",
    "> Jupyter Notebook containing learnings on 2D arrays.\n",
    "\n",
    "- toc: false\n",
    "- badges: true\n",
    "- comments: true\n",
    "- categories: [java, labs]\n",
    "- image: images/arrayList.jpeg"
   ]
  },
  {
   "cell_type": "markdown",
   "metadata": {},
   "source": [
    "# Learning Objective!\n",
    "Represent collections of related primitive and object reference data using two dimensional array objects."
   ]
  },
  {
   "cell_type": "markdown",
   "metadata": {},
   "source": [
    "# 2D Array Vocab:\n",
    "* Array = a data structure used to implement a collection (list) of primitive or object reference data\n",
    "* Element = a single value in the array\n",
    "* Index = the position of the element in the array (starts from 0)\n",
    "* Array Length = the number of elements in the array\n",
    "* Is public, so can be accessed in any class\n",
    "* Is also final, so can’t change it after array has been created"
   ]
  },
  {
   "cell_type": "markdown",
   "metadata": {},
   "source": [
    "# Initializing a Sample Array:"
   ]
  },
  {
   "cell_type": "code",
   "execution_count": 1,
   "metadata": {
    "vscode": {
     "languageId": "java"
    }
   },
   "outputs": [
    {
     "name": "stdout",
     "output_type": "stream",
     "text": [
      "arr[0][0] = 1\n",
      "arr[1][2] = 6\n",
      "arr[2][1] = 8\n"
     ]
    }
   ],
   "source": [
    "public class Test {\n",
    "\n",
    "    public static void main(String[] args) {\n",
    " \n",
    "       int[][] arr = {\n",
    "          { 1, 2, 3 },\n",
    "          { 4, 5, 6 },\n",
    "          { 7, 8, 9 }\n",
    "       };\n",
    " \n",
    "       System.out.println(\"arr[0][0] = \" + arr[0][0]);\n",
    "       System.out.println(\"arr[1][2] = \" + arr[1][2]);\n",
    "       System.out.println(\"arr[2][1] = \" + arr[2][1]);\n",
    "       \n",
    "    }\n",
    " \n",
    " }\n",
    " Test.main(null);"
   ]
  },
  {
   "cell_type": "markdown",
   "metadata": {},
   "source": [
    "# Accessing and Updating Elements of a 2D Array:\n",
    "\n",
    "### Hack 1: Access the last element of the 2D Array list:"
   ]
  },
  {
   "cell_type": "code",
   "execution_count": 2,
   "metadata": {
    "vscode": {
     "languageId": "java"
    }
   },
   "outputs": [
    {
     "name": "stdout",
     "output_type": "stream",
     "text": [
      "i\n"
     ]
    }
   ],
   "source": [
    "public class Test {\n",
    "\n",
    "    public static void main(String[] args) {\n",
    " \n",
    "      String[][] arr = {\n",
    "         { \"a\", \"f\", \"g\" },\n",
    "         { \"b\", \"e\", \"h\" },\n",
    "         { \"c\", \"d\", \"i\" }\n",
    "      };\n",
    " \n",
    "      System.out.println(arr[arr.length - 1][arr[0].length - 1]);\n",
    "    }\n",
    " \n",
    " }\n",
    " Test.main(null);"
   ]
  },
  {
   "cell_type": "markdown",
   "metadata": {},
   "source": [
    "### Hack 2: Changing a Value:"
   ]
  },
  {
   "cell_type": "code",
   "execution_count": 3,
   "metadata": {
    "vscode": {
     "languageId": "java"
    }
   },
   "outputs": [
    {
     "name": "stdout",
     "output_type": "stream",
     "text": [
      "Athens\n"
     ]
    }
   ],
   "source": [
    "public class Test {\n",
    "\n",
    "    public static void main(String[] args) {\n",
    " \n",
    "      String[][] arr = {\n",
    "         { \"Atlanta\", \"Baltimore\", \"Chicago\" },\n",
    "         { \"Australia\", \"Boston\", \"Cincinnati\" },\n",
    "         { \"Austin\", \"Beaumont\", \"Columbus\" }\n",
    "      };\n",
    " \n",
    "      arr[2][0]  = \"Athens\";\n",
    "      System.out.println(arr[2][0]);\n",
    "       \n",
    "    }\n",
    " \n",
    " }\n",
    " Test.main(null);"
   ]
  },
  {
   "cell_type": "markdown",
   "metadata": {},
   "source": [
    "### Nested Loops, Our Beloved:"
   ]
  },
  {
   "cell_type": "code",
   "execution_count": 4,
   "metadata": {
    "vscode": {
     "languageId": "java"
    }
   },
   "outputs": [
    {
     "name": "stdout",
     "output_type": "stream",
     "text": [
      "a f g l  \n",
      "b e h k  \n",
      "c d i j  \n"
     ]
    }
   ],
   "source": [
    "public class Test {\n",
    "\n",
    "    public static void main(String[] args) {\n",
    " \n",
    "      String[][] arr = {\n",
    "         { \"a\", \"f\", \"g\", \"l\" },\n",
    "         { \"b\", \"e\", \"h\", \"k\" },\n",
    "         { \"c\", \"d\", \"i\", \"j\" }\n",
    "      };\n",
    " \n",
    "      for (int row = 0; row < 3; row++) {\n",
    "         for (int col = 0; col < 4; col++) {\n",
    "            System.out.print(arr[row][col] + \" \");\n",
    "         }\n",
    "        System.out.println(\" \");\n",
    "      }\n",
    "       \n",
    "    }\n",
    " \n",
    " }\n",
    " Test.main(null);"
   ]
  },
  {
   "cell_type": "markdown",
   "metadata": {},
   "source": [
    "### Hack 3: Unknown Dimensions:"
   ]
  },
  {
   "cell_type": "code",
   "execution_count": 5,
   "metadata": {
    "vscode": {
     "languageId": "java"
    }
   },
   "outputs": [
    {
     "name": "stdout",
     "output_type": "stream",
     "text": [
      "Atlanta Baltimore Chicago  \n",
      "Australia Boston Cincinnati  \n",
      "Austin Beaumont Columbus  \n"
     ]
    }
   ],
   "source": [
    "public class Test {\n",
    "\n",
    "    public static void main(String[] args) {\n",
    " \n",
    "       String[][] arr = {\n",
    "          { \"Atlanta\", \"Baltimore\", \"Chicago\" },\n",
    "          { \"Australia\", \"Boston\", \"Cincinnati\" },\n",
    "          { \"Austin\", \"Beaumont\", \"Columbus\" }\n",
    "       };\n",
    " \n",
    "       for (int row = 0; row < 3; row++) {\n",
    "          for (int col = 0; col < 3; col++) {\n",
    "             System.out.print(arr[row][col] + \" \");\n",
    "          }\n",
    "         System.out.println(\" \");\n",
    "       }\n",
    "        \n",
    "       \n",
    "    }\n",
    " \n",
    " }\n",
    " Test.main(null);"
   ]
  },
  {
   "cell_type": "markdown",
   "metadata": {},
   "source": [
    "### Searching for a Value in a 2D Array:"
   ]
  },
  {
   "cell_type": "code",
   "execution_count": 6,
   "metadata": {
    "vscode": {
     "languageId": "java"
    }
   },
   "outputs": [
    {
     "name": "stdout",
     "output_type": "stream",
     "text": [
      "Boston\n"
     ]
    }
   ],
   "source": [
    "public class Test {\n",
    "\n",
    "    public static void main(String[] args) {\n",
    "  \n",
    "        String[][] arr = {\n",
    "            { \"Atlanta\", \"Baltimore\", \"Chicago\" },\n",
    "            { \"Australia\", \"Boston\", \"Cincinnati\" },\n",
    "            { \"Austin\", \"Beaumont\", \"Columbus\" }\n",
    "        };\n",
    "\n",
    "        String match = \"\";\n",
    "        String name = \"Boston\";\n",
    "        for (String[] row : arr) {\n",
    "            for (String item : row) {\n",
    "                if (item.equals(name)) {\n",
    "                    match = name;\n",
    "                }\n",
    "            }\n",
    "        }\n",
    "\n",
    "        if (match.length() == 0) {\n",
    "            System.out.println(\"No Match!\");\n",
    "        } else {\n",
    "            System.out.println(name);\n",
    "        }\n",
    "        \n",
    "    }\n",
    " \n",
    " }\n",
    "Test.main(null);"
   ]
  },
  {
   "cell_type": "markdown",
   "metadata": {},
   "source": [
    "### Hack 4: Finding the Min/Max Value:"
   ]
  },
  {
   "cell_type": "code",
   "execution_count": 7,
   "metadata": {
    "vscode": {
     "languageId": "java"
    }
   },
   "outputs": [
    {
     "name": "stdout",
     "output_type": "stream",
     "text": [
      "Cincinnati\n",
      "Boston\n"
     ]
    }
   ],
   "source": [
    "public class Test {\n",
    "\n",
    "    public static void main(String[] args) {\n",
    "  \n",
    "        String[][] arr = {\n",
    "            { \"Atlanta\", \"Baltimore\", \"Chicago\" },\n",
    "            { \"Australia\", \"Boston\", \"Cincinnati\" },\n",
    "            { \"Austin\", \"Beaumont\", \"Columbus\" }\n",
    "        };\n",
    "\n",
    "        String longest = arr[0][0];\n",
    "\n",
    "        for (int i = 0; i < arr.length; i++){\n",
    "          for (int j = 0; j < arr[i].length; j++){\n",
    "            if (longest.length() < arr[i][j].length()) {\n",
    "              longest = arr[i][j]; \n",
    "            }\n",
    "          }\n",
    "        }\n",
    "        System.out.println(longest);\n",
    "        \n",
    "        String shortest = arr[0][0];\n",
    "        for (int i = 0; i < arr.length; i++){\n",
    "          for (int j = 0; j < arr[i].length; j++){\n",
    "            if (shortest.length() > arr[i][j].length()) {\n",
    "              shortest = arr[i][j]; \n",
    "            }\n",
    "          }\n",
    "        }\n",
    "        System.out.println(shortest);\n",
    "    }\n",
    " \n",
    " }\n",
    "Test.main(null);"
   ]
  },
  {
   "cell_type": "markdown",
   "metadata": {},
   "source": [
    "### HW!\n",
    "Please submit screenshots of your 4 hacks up and running to our Google Form, which also has a few 2D array related multiple choice questions.\n",
    "Additionally, Complete and send a screenshot of your code for 2017 FRQ Q4: Successor Array in that same google form.\n",
    "Please submit as a pair or group."
   ]
  },
  {
   "cell_type": "markdown",
   "metadata": {},
   "source": [
    "### 2017 FRQ - Part A"
   ]
  },
  {
   "cell_type": "code",
   "execution_count": null,
   "metadata": {
    "vscode": {
     "languageId": "java"
    }
   },
   "outputs": [],
   "source": [
    "public static Position findPosition(int num, int[][] intArr)\n",
    "{\n",
    "    for (int row=0; row < intArray.length; row++)\n",
    "    {\n",
    "        for (int col=0; col < intArray[0].length; col++)\n",
    "        {\n",
    "            if (intArray[row][col] == num)\n",
    "            {\n",
    "                return new Position(rol, col);\n",
    "            }\n",
    "        }\n",
    "    }\n",
    "    return.null;\n",
    "}"
   ]
  },
  {
   "cell_type": "markdown",
   "metadata": {},
   "source": [
    "### 2017 FRQ - Part B"
   ]
  },
  {
   "cell_type": "code",
   "execution_count": null,
   "metadata": {
    "vscode": {
     "languageId": "java"
    }
   },
   "outputs": [],
   "source": [
    "public static Position[][] getSuccessorArray(int[][] intArr)\n",
    "{\n",
    "    Position[][] newArray = new Position[intArray.length][intArray[0].length];\n",
    "\n",
    "    for (int row=0; row < intArray.length; row++)\n",
    "    {\n",
    "        for (int col=0; col < intArray[0].length; col++)\n",
    "        {\n",
    "        newArray[row][col] = findPosition(intArray[row][col]+1, intArray);\n",
    "        }\n",
    "    }\n",
    "    return newArray;\n",
    "\n",
    "}"
   ]
  },
  {
   "cell_type": "markdown",
   "metadata": {},
   "source": [
    "### Christmas Tree EC"
   ]
  },
  {
   "cell_type": "code",
   "execution_count": 11,
   "metadata": {
    "vscode": {
     "languageId": "java"
    }
   },
   "outputs": [
    {
     "name": "stdout",
     "output_type": "stream",
     "text": [
      "        *          \n",
      "      * * *        \n",
      "    * * * * *      \n",
      "      * * *        \n",
      "    * * * * *      \n",
      "  * * * * * * *    \n",
      "    * * * * *      \n",
      "  * * * * * * *    \n",
      "* * * * * * * * *  \n"
     ]
    }
   ],
   "source": [
    "public class ChristmasTree {\n",
    "\n",
    "    public static void main(String[] args) {\n",
    " \n",
    "      String[][] tree = {\n",
    "         { \" \", \" \", \" \", \" \", \"*\", \" \", \" \", \" \", \" \"},\n",
    "         { \" \", \" \", \" \", \"*\", \"*\", \"*\", \" \", \" \", \" \"},\n",
    "         { \" \", \" \", \"*\", \"*\", \"*\", \"*\", \"*\", \" \", \" \"},\n",
    "         { \" \", \" \", \" \", \"*\", \"*\", \"*\", \" \", \" \", \" \"},\n",
    "         { \" \", \" \", \"*\", \"*\", \"*\", \"*\", \"*\", \" \", \" \"},\n",
    "         { \" \", \"*\", \"*\", \"*\", \"*\", \"*\", \"*\", \"*\", \" \"},\n",
    "         { \" \", \" \", \"*\", \"*\", \"*\", \"*\", \"*\", \" \", \" \"},\n",
    "         { \" \", \"*\", \"*\", \"*\", \"*\", \"*\", \"*\", \"*\", \" \"},\n",
    "         { \"*\", \"*\", \"*\", \"*\", \"*\", \"*\", \"*\", \"*\", \"*\"},\n",
    "      };\n",
    " \n",
    "      // Print the last element in the array!\n",
    "      for (String[] row : tree) {\n",
    "         for (String item : row) {\n",
    "             System.out.print(item + \" \");\n",
    "         }\n",
    "         System.out.println(' ');\n",
    "     }\n",
    "    }\n",
    " \n",
    " }\n",
    "ChristmasTree.main(null);"
   ]
  }
 ],
 "metadata": {
  "kernelspec": {
   "display_name": "Java",
   "language": "java",
   "name": "java"
  },
  "language_info": {
   "codemirror_mode": "java",
   "file_extension": ".jshell",
   "mimetype": "text/x-java-source",
   "name": "Java",
   "pygments_lexer": "java",
   "version": "17.0.4+8"
  },
  "orig_nbformat": 4
 },
 "nbformat": 4,
 "nbformat_minor": 2
}
