{
 "cells": [
  {
   "cell_type": "markdown",
   "metadata": {},
   "source": [
    "# Unit 5 Lesson on Writing Classes\n",
    "> Jupyter Notebook containing learnings on writing classes."
   ]
  },
  {
   "cell_type": "markdown",
   "metadata": {},
   "source": [
    "# 5.1 Anatomy of a Class\n",
    "\n",
    "* Class: blueprint used to create objects\n",
    "* Instances, attributes, constructors, methods\n",
    "* Objects: instances of a class\n",
    "* public: no restricted access -- classes and constructors\n",
    "* private: restrict access -- instance variables"
   ]
  },
  {
   "cell_type": "markdown",
   "metadata": {},
   "source": [
    "# 5.2 Constructors\n",
    "\n",
    "* initializes instance variables when an object is created\n",
    "* Each object has attributes which are the instance of a class\n",
    "* Constructors set the initial state of an object by assigning initial values to instance variables"
   ]
  },
  {
   "cell_type": "markdown",
   "metadata": {},
   "source": [
    "# 5.3 Comments\n",
    "\n",
    "* ignored by compiler\n",
    "* make code more readable\n",
    "* not required for the AP exam"
   ]
  },
  {
   "cell_type": "markdown",
   "metadata": {},
   "source": [
    "# 5.4 Accessor Method\n",
    "\n",
    "* Allows objects outside of the class to obtain values\n",
    "* non void returns a single value\n",
    "* toString() Method"
   ]
  },
  {
   "cell_type": "markdown",
   "metadata": {},
   "source": [
    "# 5.5 Mutator Method\n",
    "\n",
    "* Don't return values\n",
    "* Must be used when different classes need to modify instance variables"
   ]
  },
  {
   "cell_type": "markdown",
   "metadata": {},
   "source": [
    "# 2019 FRQ Question 2"
   ]
  },
  {
   "cell_type": "code",
   "execution_count": null,
   "metadata": {},
   "outputs": [],
   "source": [
    "public class StepTracker\n",
    "{\n",
    "    private int minSteps;\n",
    "    private int totalSteps;\n",
    "    private int numDays;\n",
    "    private int numActiveDays;\n",
    "    public StepTracker(int threshold)\n",
    "    {\n",
    "        minSteps = threshold;\n",
    "        totalSteps = 0;\n",
    "        numDays = 0;\n",
    "        numActiveDays = 0;\n",
    "    }\n",
    "    public void addDailySteps(int steps)\n",
    "    {\n",
    "        totalSteps += steps;\n",
    "        numDays++;\n",
    "        if (steps >= minSteps)\n",
    "        {\n",
    "            numActiveDays++;\n",
    "        }\n",
    "    }\n",
    "    public int activeDays()\n",
    "    {\n",
    "        return numActiveDays;\n",
    "    }\n",
    "    public double averageSteps()\n",
    "    {\n",
    "        if (numDays == 0)\n",
    "        {\n",
    "            return 0.0;\n",
    "        }\n",
    "        else\n",
    "        {\n",
    "            return (double) totalSteps / numDays;\n",
    "        }\n",
    "    }\n",
    "}"
   ]
  }
 ],
 "metadata": {
  "kernelspec": {
   "display_name": "Java",
   "language": "java",
   "name": "java"
  },
  "language_info": {
   "name": "java"
  },
  "orig_nbformat": 4
 },
 "nbformat": 4,
 "nbformat_minor": 2
}
