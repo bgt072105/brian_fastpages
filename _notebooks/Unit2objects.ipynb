{
 "cells": [
  {
   "cell_type": "markdown",
   "metadata": {},
   "source": [
    "# Unit 2: Objects\n",
    "> Jupyter Notebook containing learnings about objects.\n",
    "\n"
   ]
  },
  {
   "cell_type": "markdown",
   "metadata": {},
   "source": [
    "# Learning Objectives\n",
    "\n",
    "* Object oriented programming\n",
    "* Objects, classes, and methods\n",
    "* Creating classes and methods\n",
    "* Declaring methods\n",
    "* Calling methods"
   ]
  },
  {
   "cell_type": "markdown",
   "metadata": {},
   "source": [
    "# Object Oriented Programming\n",
    "\n",
    "* Organizes software design around objects\n",
    "* Compartmentalizes data and functions in such a way that data and the functions that operate on data are bound together"
   ]
  },
  {
   "cell_type": "markdown",
   "metadata": {},
   "source": [
    "# Objects, Classes, and Methods\n",
    "\n",
    "* Classes are a template or a blueprint from which objects are created.\n",
    "* Objects created under the same class will share common methods and attributes.\n",
    "* Objects are instances of a class.\n",
    "* Methods, otherwise known as functions, are a set of code that perform a specific task.\n",
    "* Example: class fruit contains an object like an apple\n",
    "* Class attributes are things that the objects inherit\n",
    "* Example: calorie count or quantity\n",
    "* Methods of a class could be stored or consumed"
   ]
  },
  {
   "cell_type": "markdown",
   "metadata": {},
   "source": [
    "# Creating Classes and Objects\n",
    "\n",
    "* An object is initialized by calling a class constructor"
   ]
  },
  {
   "cell_type": "code",
   "execution_count": null,
   "metadata": {
    "vscode": {
     "languageId": "java"
    }
   },
   "outputs": [],
   "source": [
    "Painter myPainter = new Painter ();"
   ]
  },
  {
   "cell_type": "markdown",
   "metadata": {},
   "source": [
    "# Declaring Methods\n",
    "\n",
    "* Access modifier: public, protected, private, or default\n",
    "* Return type: No return value would mean void\n",
    "* Method name: name of method\n",
    "* Parameter list: the list of variables the method will operate on based on what's in the parentheses\n",
    "* Exception list: exceptions during runtime\n",
    "* Method body: Internal code the method will execute"
   ]
  },
  {
   "cell_type": "code",
   "execution_count": null,
   "metadata": {
    "vscode": {
     "languageId": "java"
    }
   },
   "outputs": [],
   "source": [
    "public int max (int x, int y) // modifier, return type, method name, parameter list\n",
    "{\n",
    "    if (x>y) // body of the method\n",
    "        return x;\n",
    "    else\n",
    "        return y;\n",
    "}"
   ]
  },
  {
   "cell_type": "markdown",
   "metadata": {},
   "source": [
    "# Calling Methods\n",
    "\n",
    "* Advantageous because it allows for code reuse and optimization\n",
    "* Calling a method looks like this: methodName (parameter1, parameter2);\n",
    "* Calling an object's method: objectReference.methodName(parameter 1, parameter 2);"
   ]
  },
  {
   "cell_type": "markdown",
   "metadata": {},
   "source": [
    "# 2021 FRQ 1"
   ]
  },
  {
   "cell_type": "markdown",
   "metadata": {},
   "source": [
    "# Part A"
   ]
  },
  {
   "cell_type": "code",
   "execution_count": 1,
   "metadata": {
    "vscode": {
     "languageId": "java"
    }
   },
   "outputs": [],
   "source": [
    "public int scoreGuess (String guess)\n",
    "{\n",
    "    int count = 0;\n",
    "    for (int i = 0; i <= secret.length() - guess.length(); i++)\n",
    "    {\n",
    "        if (secret.substring (i, i + guess.length()).equals(guess))\n",
    "        {\n",
    "            count++;\n",
    "        }\n",
    "    }\n",
    "    return count * guess.length() * guess.length();\n",
    "}"
   ]
  },
  {
   "cell_type": "markdown",
   "metadata": {},
   "source": [
    "# Part B"
   ]
  },
  {
   "cell_type": "code",
   "execution_count": 2,
   "metadata": {
    "vscode": {
     "languageId": "java"
    }
   },
   "outputs": [],
   "source": [
    "public String findBetterGuess( String guess1, String guess2) // defines a method\n",
    "{\n",
    "    if (scoreGuess(guess1) > scoreGuess(guess2))\n",
    "    {\n",
    "        return guess1;\n",
    "    }\n",
    "    if (scoreGuess(guess2) > scoreGuess(guess1))\n",
    "    {\n",
    "        return guess2;\n",
    "    }\n",
    "    if (guess1.compareTo(guess2) > 0)\n",
    "    {\n",
    "        return guess1;\n",
    "    }\n",
    "    return guess2;\n",
    "}"
   ]
  }
 ],
 "metadata": {
  "kernelspec": {
   "display_name": "Java",
   "language": "java",
   "name": "java"
  },
  "language_info": {
   "codemirror_mode": "java",
   "file_extension": ".jshell",
   "mimetype": "text/x-java-source",
   "name": "Java",
   "pygments_lexer": "java",
   "version": "17.0.4+8"
  },
  "orig_nbformat": 4,
  "vscode": {
   "interpreter": {
    "hash": "9183a533545d0b65b81c3395c708e1f9395188a8f9d11da77e00daa9d2dfddea"
   }
  }
 },
 "nbformat": 4,
 "nbformat_minor": 2
}
