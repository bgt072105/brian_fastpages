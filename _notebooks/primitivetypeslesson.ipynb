{
 "cells": [
  {
   "cell_type": "markdown",
   "metadata": {},
   "source": [
    "# Unit 1: Primitive Object Types\n",
    "> Jupyter Notebook containing learnings about primitive object types"
   ]
  },
  {
   "cell_type": "markdown",
   "metadata": {},
   "source": [
    "# Learning Objectives\n",
    "\n",
    "System class methods print output to the console.\n",
    "\n",
    "* String literals\n",
    "* Primitive Data Types\n",
    "* Declaring variables to different data types\n",
    "* Use of arithmetic expressions in a program\n",
    "* Data stored in variables\n",
    "* Assignment Statements"
   ]
  },
  {
   "cell_type": "markdown",
   "metadata": {},
   "source": [
    "# String Literals\n",
    "\n",
    "* Declare a class: public class \"name\"\n",
    "* Use curly brackets in order to define where a class begins and where it ends\n",
    "* Put methods (at least one) inside of the curly brackets representing the class\n",
    "* Main methods: public static void main(String[] args)\n",
    "* Another curly bracket to define where the method begins and ends -- indented this time\n",
    "* System.out.println (\"\"); -- lets us output text to our console, must end with a semicolon"
   ]
  },
  {
   "cell_type": "code",
   "execution_count": 1,
   "metadata": {
    "vscode": {
     "languageId": "java"
    }
   },
   "outputs": [
    {
     "name": "stdout",
     "output_type": "stream",
     "text": [
      "My name is Brian\n"
     ]
    }
   ],
   "source": [
    "public class Program {\n",
    "    \n",
    "    public static void main(String[] args) \n",
    "    {\n",
    "        System.out.println(\"My name is Brian\");\n",
    "    }\n",
    "}\n",
    "\n",
    "Program.main(null)"
   ]
  },
  {
   "cell_type": "markdown",
   "metadata": {},
   "source": [
    "# Declaring and Initializing Variables\n",
    "\n",
    "* Variables defined within a method are local variables\n",
    "* \"Int\" can hold any whole number\n",
    "* You need an initial value in order to change it or increment it\n",
    "* No quotation mark around variable because this will output the value stored by variable"
   ]
  },
  {
   "cell_type": "code",
   "execution_count": 2,
   "metadata": {
    "vscode": {
     "languageId": "java"
    }
   },
   "outputs": [
    {
     "name": "stdout",
     "output_type": "stream",
     "text": [
      "The score is: 90\n"
     ]
    }
   ],
   "source": [
    "public class Variables{\n",
    "    public static void main(String[] args)\n",
    "    {\n",
    "        int x;\n",
    "        x = 90;\n",
    "        x = 5;\n",
    "        x = x + 1;\n",
    "        int Score = 90;\n",
    "\n",
    "        System.out.println(\"The score is: \"+ Score);\n",
    "    }\n",
    "}\n",
    "Variables.main(null)"
   ]
  },
  {
   "cell_type": "markdown",
   "metadata": {},
   "source": [
    "# 8 Primitive Data Types\n",
    "\n",
    "* Byte: minimum value of -128 and maximum value of 127 (inclusive). It is useful for saving memory in large arrays\n",
    "* Short: Minimum value of -32,768 and maximum value of 32,767. Same purpose as Byte\n",
    "* Int: Any integer or whole number\n",
    "* Long: Greater range than int\n",
    "* Float: floating point numbers that tend to have decimals\n",
    "* Double: not good for precise data\n",
    "* Boolean: logic that evaluates whether a condition is true or false\n",
    "* Char"
   ]
  },
  {
   "cell_type": "code",
   "execution_count": 3,
   "metadata": {
    "vscode": {
     "languageId": "java"
    }
   },
   "outputs": [
    {
     "name": "stdout",
     "output_type": "stream",
     "text": [
      "5\n",
      "false\n"
     ]
    }
   ],
   "source": [
    "public class PrimitiveDataTypes\n",
    "{\n",
    "    public static void main(String[] args)\n",
    "    {\n",
    "        int a = 5;\n",
    "        double b = 5.0;\n",
    "        b = 3; // only works for double\n",
    "        a = (int) 5.999; // casting cuts off everything after the decimal\n",
    "        System.out.println(a);\n",
    "\n",
    "        boolean c = true;\n",
    "        c = false;\n",
    "        System.out.println(c);\n",
    "    }\n",
    "}\n",
    "PrimitiveDataTypes.main(null)"
   ]
  },
  {
   "cell_type": "markdown",
   "metadata": {},
   "source": [
    "# Arithmetic Operations"
   ]
  },
  {
   "cell_type": "code",
   "execution_count": 4,
   "metadata": {
    "vscode": {
     "languageId": "java"
    }
   },
   "outputs": [
    {
     "name": "stdout",
     "output_type": "stream",
     "text": [
      "7\n",
      "3\n",
      "25\n",
      "1\n",
      "2\n"
     ]
    }
   ],
   "source": [
    "public class Operators \n",
    "{\n",
    "    public static void main(String[] args)\n",
    "    {\n",
    "        int x;\n",
    "        x = 5;\n",
    "\n",
    "        System.out.println(5+2); \n",
    "        System.out.println(5-2);\n",
    "        System.out.println(5*5);\n",
    "        System.out.println(5/5);\n",
    "        \n",
    "        x = 3*3;\n",
    "        x = 3 * x;\n",
    "\n",
    "        System.out.println(5 % 3); // 5 mod 3 finds the remainder when 5 is divided by 3\n",
    "\n",
    "    }\n",
    "}\n",
    "Operators.main(null)"
   ]
  },
  {
   "cell_type": "markdown",
   "metadata": {},
   "source": [
    "# 2013 FRQ 1"
   ]
  },
  {
   "cell_type": "markdown",
   "metadata": {},
   "source": [
    "# Part 1"
   ]
  },
  {
   "cell_type": "code",
   "execution_count": null,
   "metadata": {
    "vscode": {
     "languageId": "java"
    }
   },
   "outputs": [],
   "source": [
    "public DownloadInfo getDownloadInfo(String title) { // define the class\n",
    "    for (DownloadInfo info : downloadList){\n",
    "    if (info.getTitle().equals(title)){\n",
    "     return info;\n",
    "     }\n",
    "    }\n",
    "    return null; // method inside the class\n",
    "    }"
   ]
  },
  {
   "cell_type": "markdown",
   "metadata": {},
   "source": [
    "# Part 2"
   ]
  },
  {
   "cell_type": "code",
   "execution_count": null,
   "metadata": {
    "vscode": {
     "languageId": "java"
    }
   },
   "outputs": [],
   "source": [
    "public void updateDownloads(List<String> titles) {\n",
    "    for (String title : titles) {\n",
    "    DownloadInfo foundInfo = getDownloadInfo(title); // calls method\n",
    "    if (foundInfo == null){\n",
    "    downloadList.add(new DownloadInfo(title)); // makes new object\n",
    "    }\n",
    "    else {\n",
    "    foundInfo.incrementTimesDownloaded();\n",
    "    }\n",
    "    }\n",
    "   }"
   ]
  }
 ],
 "metadata": {
  "kernelspec": {
   "display_name": "Java",
   "language": "java",
   "name": "java"
  },
  "language_info": {
   "codemirror_mode": "java",
   "file_extension": ".jshell",
   "mimetype": "text/x-java-source",
   "name": "Java",
   "pygments_lexer": "java",
   "version": "17.0.4+8"
  },
  "orig_nbformat": 4,
  "vscode": {
   "interpreter": {
    "hash": "9183a533545d0b65b81c3395c708e1f9395188a8f9d11da77e00daa9d2dfddea"
   }
  }
 },
 "nbformat": 4,
 "nbformat_minor": 2
}
